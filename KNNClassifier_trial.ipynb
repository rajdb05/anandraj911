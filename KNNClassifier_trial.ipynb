{
 "cells": [
  {
   "cell_type": "markdown",
   "metadata": {
    "_uuid": "905cc5ed1d6490c82b6a7082d8895ead2ecd2d74",
    "colab_type": "text",
    "id": "pq_6bn4s37rW"
   },
   "source": [
    "**KNN**\n",
    "\n",
    "According to this algorithm, which is used in classification, feature extraction during classification is used to look at the closeness of the new individual to be categorized to k of the previous individuals.\n",
    "For example, you want to classify a new element for k = 3. in this case the nearest 3 of the old classified elements are taken. If these elements are included in the class, the new element is also included in that class. The euclide distance can be used in the distance calculation."
   ]
  },
  {
   "cell_type": "markdown",
   "metadata": {
    "colab_type": "text",
    "id": "W_7uuJPl37rX"
   },
   "source": [
    "# Project - Classify Type of Patient from the biomechanical features of orthopedic patients."
   ]
  },
  {
   "cell_type": "markdown",
   "metadata": {
    "_cell_guid": "b1076dfc-b9ad-4769-8c92-a6c4dae69d19",
    "_uuid": "8f2839f25d086af736a60e9eeb907d3b93b6e0e5",
    "colab_type": "text",
    "id": "9zUilPk437rZ"
   },
   "source": [
    "# Install the necessary libraries\n"
   ]
  },
  {
   "cell_type": "code",
   "execution_count": 1,
   "metadata": {
    "colab": {},
    "colab_type": "code",
    "id": "wA9mXevl37ra"
   },
   "outputs": [],
   "source": [
    "import pandas as pd\n",
    "import numpy as np\n",
    "from sklearn.preprocessing import LabelEncoder,MinMaxScaler\n",
    "from sklearn.model_selection import train_test_split\n",
    "from sklearn.neighbors import KNeighborsClassifier\n",
    "from sklearn.metrics import accuracy_score, confusion_matrix\n",
    "import seaborn as sns\n",
    "from scipy import stats\n",
    "import matplotlib.pyplot as pl"
   ]
  },
  {
   "cell_type": "markdown",
   "metadata": {
    "_cell_guid": "79c7e3d0-c299-4dcb-8224-4455121ee9b0",
    "_uuid": "d629ff2d2480ee46fbb7e2d37f6b5fab8052498a",
    "colab_type": "text",
    "id": "Vhj-ygLk37rf"
   },
   "source": [
    "# import data 2C_weka.csv for 2 Class Classifcation.\n"
   ]
  },
  {
   "cell_type": "code",
   "execution_count": 2,
   "metadata": {
    "colab": {},
    "colab_type": "code",
    "id": "zJP60jXW37rg"
   },
   "outputs": [],
   "source": [
    "df=pd.read_csv('2Classdata.csv')"
   ]
  },
  {
   "cell_type": "markdown",
   "metadata": {
    "_uuid": "594e3e7d5e6d772c4ea0ff7b86d3007320c300a2",
    "colab_type": "text",
    "id": "_4YRpeOK37rj"
   },
   "source": [
    "# Explore the data set.Get necessary information about the data."
   ]
  },
  {
   "cell_type": "markdown",
   "metadata": {
    "colab_type": "raw",
    "id": "ikUkrsBk37rk"
   },
   "source": [
    "Look at the head and tail of dataset.\n",
    "Find the missing value.\n",
    "Look at the unique values of class values.\n",
    "Look at the distribution of class values and other attributes.\n",
    "Get the datatype information about the dataset\n",
    "Plot the distribution of different classes for pelvic_radius and sacral_slope for visualization."
   ]
  },
  {
   "cell_type": "code",
   "execution_count": 3,
   "metadata": {
    "colab": {},
    "colab_type": "code",
    "id": "CHbvCSKR37rl"
   },
   "outputs": [
    {
     "name": "stdout",
     "output_type": "stream",
     "text": [
      "(310, 7)\n"
     ]
    }
   ],
   "source": [
    "print(df.shape)"
   ]
  },
  {
   "cell_type": "code",
   "execution_count": 4,
   "metadata": {
    "colab": {},
    "colab_type": "code",
    "id": "GEim0gnc37ro"
   },
   "outputs": [
    {
     "data": {
      "text/html": [
       "<div>\n",
       "<style scoped>\n",
       "    .dataframe tbody tr th:only-of-type {\n",
       "        vertical-align: middle;\n",
       "    }\n",
       "\n",
       "    .dataframe tbody tr th {\n",
       "        vertical-align: top;\n",
       "    }\n",
       "\n",
       "    .dataframe thead th {\n",
       "        text-align: right;\n",
       "    }\n",
       "</style>\n",
       "<table border=\"1\" class=\"dataframe\">\n",
       "  <thead>\n",
       "    <tr style=\"text-align: right;\">\n",
       "      <th></th>\n",
       "      <th>pelvic_incidence</th>\n",
       "      <th>pelvic_tilt numeric</th>\n",
       "      <th>lumbar_lordosis_angle</th>\n",
       "      <th>sacral_slope</th>\n",
       "      <th>pelvic_radius</th>\n",
       "      <th>degree_spondylolisthesis</th>\n",
       "      <th>class</th>\n",
       "    </tr>\n",
       "  </thead>\n",
       "  <tbody>\n",
       "    <tr>\n",
       "      <th>0</th>\n",
       "      <td>63.027818</td>\n",
       "      <td>22.552586</td>\n",
       "      <td>39.609117</td>\n",
       "      <td>40.475232</td>\n",
       "      <td>98.672917</td>\n",
       "      <td>-0.254400</td>\n",
       "      <td>Abnormal</td>\n",
       "    </tr>\n",
       "    <tr>\n",
       "      <th>1</th>\n",
       "      <td>39.056951</td>\n",
       "      <td>10.060991</td>\n",
       "      <td>25.015378</td>\n",
       "      <td>28.995960</td>\n",
       "      <td>114.405425</td>\n",
       "      <td>4.564259</td>\n",
       "      <td>Abnormal</td>\n",
       "    </tr>\n",
       "    <tr>\n",
       "      <th>2</th>\n",
       "      <td>68.832021</td>\n",
       "      <td>22.218482</td>\n",
       "      <td>50.092194</td>\n",
       "      <td>46.613539</td>\n",
       "      <td>105.985135</td>\n",
       "      <td>-3.530317</td>\n",
       "      <td>Abnormal</td>\n",
       "    </tr>\n",
       "    <tr>\n",
       "      <th>3</th>\n",
       "      <td>69.297008</td>\n",
       "      <td>24.652878</td>\n",
       "      <td>44.311238</td>\n",
       "      <td>44.644130</td>\n",
       "      <td>101.868495</td>\n",
       "      <td>11.211523</td>\n",
       "      <td>Abnormal</td>\n",
       "    </tr>\n",
       "    <tr>\n",
       "      <th>4</th>\n",
       "      <td>49.712859</td>\n",
       "      <td>9.652075</td>\n",
       "      <td>28.317406</td>\n",
       "      <td>40.060784</td>\n",
       "      <td>108.168725</td>\n",
       "      <td>7.918501</td>\n",
       "      <td>Abnormal</td>\n",
       "    </tr>\n",
       "  </tbody>\n",
       "</table>\n",
       "</div>"
      ],
      "text/plain": [
       "   pelvic_incidence  pelvic_tilt numeric  lumbar_lordosis_angle  sacral_slope  \\\n",
       "0         63.027818            22.552586              39.609117     40.475232   \n",
       "1         39.056951            10.060991              25.015378     28.995960   \n",
       "2         68.832021            22.218482              50.092194     46.613539   \n",
       "3         69.297008            24.652878              44.311238     44.644130   \n",
       "4         49.712859             9.652075              28.317406     40.060784   \n",
       "\n",
       "   pelvic_radius  degree_spondylolisthesis     class  \n",
       "0      98.672917                 -0.254400  Abnormal  \n",
       "1     114.405425                  4.564259  Abnormal  \n",
       "2     105.985135                 -3.530317  Abnormal  \n",
       "3     101.868495                 11.211523  Abnormal  \n",
       "4     108.168725                  7.918501  Abnormal  "
      ]
     },
     "execution_count": 4,
     "metadata": {},
     "output_type": "execute_result"
    }
   ],
   "source": [
    "df.head()"
   ]
  },
  {
   "cell_type": "code",
   "execution_count": 5,
   "metadata": {},
   "outputs": [
    {
     "data": {
      "text/html": [
       "<div>\n",
       "<style scoped>\n",
       "    .dataframe tbody tr th:only-of-type {\n",
       "        vertical-align: middle;\n",
       "    }\n",
       "\n",
       "    .dataframe tbody tr th {\n",
       "        vertical-align: top;\n",
       "    }\n",
       "\n",
       "    .dataframe thead th {\n",
       "        text-align: right;\n",
       "    }\n",
       "</style>\n",
       "<table border=\"1\" class=\"dataframe\">\n",
       "  <thead>\n",
       "    <tr style=\"text-align: right;\">\n",
       "      <th></th>\n",
       "      <th>pelvic_incidence</th>\n",
       "      <th>pelvic_tilt numeric</th>\n",
       "      <th>lumbar_lordosis_angle</th>\n",
       "      <th>sacral_slope</th>\n",
       "      <th>pelvic_radius</th>\n",
       "      <th>degree_spondylolisthesis</th>\n",
       "      <th>class</th>\n",
       "    </tr>\n",
       "  </thead>\n",
       "  <tbody>\n",
       "    <tr>\n",
       "      <th>305</th>\n",
       "      <td>47.903565</td>\n",
       "      <td>13.616688</td>\n",
       "      <td>36.000000</td>\n",
       "      <td>34.286877</td>\n",
       "      <td>117.449062</td>\n",
       "      <td>-4.245395</td>\n",
       "      <td>Normal</td>\n",
       "    </tr>\n",
       "    <tr>\n",
       "      <th>306</th>\n",
       "      <td>53.936748</td>\n",
       "      <td>20.721496</td>\n",
       "      <td>29.220534</td>\n",
       "      <td>33.215251</td>\n",
       "      <td>114.365845</td>\n",
       "      <td>-0.421010</td>\n",
       "      <td>Normal</td>\n",
       "    </tr>\n",
       "    <tr>\n",
       "      <th>307</th>\n",
       "      <td>61.446597</td>\n",
       "      <td>22.694968</td>\n",
       "      <td>46.170347</td>\n",
       "      <td>38.751628</td>\n",
       "      <td>125.670725</td>\n",
       "      <td>-2.707880</td>\n",
       "      <td>Normal</td>\n",
       "    </tr>\n",
       "    <tr>\n",
       "      <th>308</th>\n",
       "      <td>45.252792</td>\n",
       "      <td>8.693157</td>\n",
       "      <td>41.583126</td>\n",
       "      <td>36.559635</td>\n",
       "      <td>118.545842</td>\n",
       "      <td>0.214750</td>\n",
       "      <td>Normal</td>\n",
       "    </tr>\n",
       "    <tr>\n",
       "      <th>309</th>\n",
       "      <td>33.841641</td>\n",
       "      <td>5.073991</td>\n",
       "      <td>36.641233</td>\n",
       "      <td>28.767649</td>\n",
       "      <td>123.945244</td>\n",
       "      <td>-0.199249</td>\n",
       "      <td>Normal</td>\n",
       "    </tr>\n",
       "  </tbody>\n",
       "</table>\n",
       "</div>"
      ],
      "text/plain": [
       "     pelvic_incidence  pelvic_tilt numeric  lumbar_lordosis_angle  \\\n",
       "305         47.903565            13.616688              36.000000   \n",
       "306         53.936748            20.721496              29.220534   \n",
       "307         61.446597            22.694968              46.170347   \n",
       "308         45.252792             8.693157              41.583126   \n",
       "309         33.841641             5.073991              36.641233   \n",
       "\n",
       "     sacral_slope  pelvic_radius  degree_spondylolisthesis   class  \n",
       "305     34.286877     117.449062                 -4.245395  Normal  \n",
       "306     33.215251     114.365845                 -0.421010  Normal  \n",
       "307     38.751628     125.670725                 -2.707880  Normal  \n",
       "308     36.559635     118.545842                  0.214750  Normal  \n",
       "309     28.767649     123.945244                 -0.199249  Normal  "
      ]
     },
     "execution_count": 5,
     "metadata": {},
     "output_type": "execute_result"
    }
   ],
   "source": [
    "df.tail()"
   ]
  },
  {
   "cell_type": "code",
   "execution_count": 6,
   "metadata": {
    "colab": {},
    "colab_type": "code",
    "id": "sLTZiVDh37rq"
   },
   "outputs": [
    {
     "name": "stdout",
     "output_type": "stream",
     "text": [
      "<class 'pandas.core.frame.DataFrame'>\n",
      "RangeIndex: 310 entries, 0 to 309\n",
      "Data columns (total 7 columns):\n",
      "pelvic_incidence            310 non-null float64\n",
      "pelvic_tilt numeric         310 non-null float64\n",
      "lumbar_lordosis_angle       310 non-null float64\n",
      "sacral_slope                310 non-null float64\n",
      "pelvic_radius               310 non-null float64\n",
      "degree_spondylolisthesis    310 non-null float64\n",
      "class                       310 non-null object\n",
      "dtypes: float64(6), object(1)\n",
      "memory usage: 17.0+ KB\n"
     ]
    }
   ],
   "source": [
    "df.info()\n",
    "\n",
    "# There are no missing values and the data type of all columns are correct"
   ]
  },
  {
   "cell_type": "code",
   "execution_count": 7,
   "metadata": {},
   "outputs": [
    {
     "data": {
      "text/plain": [
       "array(['Abnormal', 'Normal'], dtype=object)"
      ]
     },
     "execution_count": 7,
     "metadata": {},
     "output_type": "execute_result"
    }
   ],
   "source": [
    "df['class'].unique()\n",
    "\n",
    "# There aren't any suspectful values in the 'Class' column"
   ]
  },
  {
   "cell_type": "code",
   "execution_count": 8,
   "metadata": {},
   "outputs": [
    {
     "data": {
      "text/html": [
       "<div>\n",
       "<style scoped>\n",
       "    .dataframe tbody tr th:only-of-type {\n",
       "        vertical-align: middle;\n",
       "    }\n",
       "\n",
       "    .dataframe tbody tr th {\n",
       "        vertical-align: top;\n",
       "    }\n",
       "\n",
       "    .dataframe thead th {\n",
       "        text-align: right;\n",
       "    }\n",
       "</style>\n",
       "<table border=\"1\" class=\"dataframe\">\n",
       "  <thead>\n",
       "    <tr style=\"text-align: right;\">\n",
       "      <th></th>\n",
       "      <th>count</th>\n",
       "      <th>mean</th>\n",
       "      <th>std</th>\n",
       "      <th>min</th>\n",
       "      <th>25%</th>\n",
       "      <th>50%</th>\n",
       "      <th>75%</th>\n",
       "      <th>max</th>\n",
       "    </tr>\n",
       "  </thead>\n",
       "  <tbody>\n",
       "    <tr>\n",
       "      <th>pelvic_incidence</th>\n",
       "      <td>310.0</td>\n",
       "      <td>60.496653</td>\n",
       "      <td>17.236520</td>\n",
       "      <td>26.147921</td>\n",
       "      <td>46.430294</td>\n",
       "      <td>58.691038</td>\n",
       "      <td>72.877696</td>\n",
       "      <td>129.834041</td>\n",
       "    </tr>\n",
       "    <tr>\n",
       "      <th>pelvic_tilt numeric</th>\n",
       "      <td>310.0</td>\n",
       "      <td>17.542822</td>\n",
       "      <td>10.008330</td>\n",
       "      <td>-6.554948</td>\n",
       "      <td>10.667069</td>\n",
       "      <td>16.357689</td>\n",
       "      <td>22.120395</td>\n",
       "      <td>49.431864</td>\n",
       "    </tr>\n",
       "    <tr>\n",
       "      <th>lumbar_lordosis_angle</th>\n",
       "      <td>310.0</td>\n",
       "      <td>51.930930</td>\n",
       "      <td>18.554064</td>\n",
       "      <td>14.000000</td>\n",
       "      <td>37.000000</td>\n",
       "      <td>49.562398</td>\n",
       "      <td>63.000000</td>\n",
       "      <td>125.742385</td>\n",
       "    </tr>\n",
       "    <tr>\n",
       "      <th>sacral_slope</th>\n",
       "      <td>310.0</td>\n",
       "      <td>42.953831</td>\n",
       "      <td>13.423102</td>\n",
       "      <td>13.366931</td>\n",
       "      <td>33.347122</td>\n",
       "      <td>42.404912</td>\n",
       "      <td>52.695888</td>\n",
       "      <td>121.429566</td>\n",
       "    </tr>\n",
       "    <tr>\n",
       "      <th>pelvic_radius</th>\n",
       "      <td>310.0</td>\n",
       "      <td>117.920655</td>\n",
       "      <td>13.317377</td>\n",
       "      <td>70.082575</td>\n",
       "      <td>110.709196</td>\n",
       "      <td>118.268178</td>\n",
       "      <td>125.467674</td>\n",
       "      <td>163.071041</td>\n",
       "    </tr>\n",
       "    <tr>\n",
       "      <th>degree_spondylolisthesis</th>\n",
       "      <td>310.0</td>\n",
       "      <td>26.296694</td>\n",
       "      <td>37.559027</td>\n",
       "      <td>-11.058179</td>\n",
       "      <td>1.603727</td>\n",
       "      <td>11.767934</td>\n",
       "      <td>41.287352</td>\n",
       "      <td>418.543082</td>\n",
       "    </tr>\n",
       "  </tbody>\n",
       "</table>\n",
       "</div>"
      ],
      "text/plain": [
       "                          count        mean        std        min         25%  \\\n",
       "pelvic_incidence          310.0   60.496653  17.236520  26.147921   46.430294   \n",
       "pelvic_tilt numeric       310.0   17.542822  10.008330  -6.554948   10.667069   \n",
       "lumbar_lordosis_angle     310.0   51.930930  18.554064  14.000000   37.000000   \n",
       "sacral_slope              310.0   42.953831  13.423102  13.366931   33.347122   \n",
       "pelvic_radius             310.0  117.920655  13.317377  70.082575  110.709196   \n",
       "degree_spondylolisthesis  310.0   26.296694  37.559027 -11.058179    1.603727   \n",
       "\n",
       "                                 50%         75%         max  \n",
       "pelvic_incidence           58.691038   72.877696  129.834041  \n",
       "pelvic_tilt numeric        16.357689   22.120395   49.431864  \n",
       "lumbar_lordosis_angle      49.562398   63.000000  125.742385  \n",
       "sacral_slope               42.404912   52.695888  121.429566  \n",
       "pelvic_radius             118.268178  125.467674  163.071041  \n",
       "degree_spondylolisthesis   11.767934   41.287352  418.543082  "
      ]
     },
     "execution_count": 8,
     "metadata": {},
     "output_type": "execute_result"
    }
   ],
   "source": [
    "# Performing some basic EDA to check the sample statistics\n",
    "\n",
    "df.describe().transpose()\n",
    "\n",
    "# It's observed that all columns except pelvic_radius have a right skew as indicated by the large difference between Q3 and max\n",
    "# The degree_spondylolisthesis column especially has a very long tail making it look very suspicious"
   ]
  },
  {
   "cell_type": "code",
   "execution_count": 9,
   "metadata": {},
   "outputs": [
    {
     "data": {
      "text/plain": [
       "<seaborn.axisgrid.PairGrid at 0x176dbb91be0>"
      ]
     },
     "execution_count": 9,
     "metadata": {},
     "output_type": "execute_result"
    },
    {
     "data": {
      "image/png": "[encoded data removed]",
      "text/plain": [
       "<Figure size 1164.25x1080 with 42 Axes>"
      ]
     },
     "metadata": {
      "needs_background": "light"
     },
     "output_type": "display_data"
    }
   ],
   "source": [
    "# A pair plot or a box plot will help visualize the skew created by outliers more clearly.\n",
    "# While a boxplot is more punishing towards outliers, a pairplot gives an idea of the distribution and we can take a more conservative approach (such as z-score) to remove outliers\n",
    "# Given the lack of subject matter knowledge, I'm taking the more conservative approach to outlier removal by using pairplot and z-scores \n",
    "\n",
    "sns.pairplot(df,diag_kind='kde',hue='class')\n",
    "\n",
    "# As suspected, the 'degree_spondylolisthesis' column seems to have a data point that's completely different from other data points. \n",
    "\n",
    "# The other columns such as pelvic_incidence, and sacral_slope also seem to have some doubtfully high values.\n",
    "# exploring them further will give some more idea"
   ]
  },
  {
   "cell_type": "code",
   "execution_count": 10,
   "metadata": {},
   "outputs": [],
   "source": [
    "# Using the zscore to identify potential outliers\n",
    "# We find the z-score of each column and check the values with z>3 and explore them further\n",
    "\n",
    "z1 = np.abs(stats.zscore(df['pelvic_incidence']))\n",
    "z2 = np.abs(stats.zscore(df['pelvic_tilt numeric']))\n",
    "z3 = np.abs(stats.zscore(df['lumbar_lordosis_angle']))\n",
    "z4 = np.abs(stats.zscore(df['sacral_slope']))\n",
    "z5 = np.abs(stats.zscore(df['pelvic_radius']))\n",
    "z6 = np.abs(stats.zscore(df['degree_spondylolisthesis']))"
   ]
  },
  {
   "cell_type": "code",
   "execution_count": 11,
   "metadata": {},
   "outputs": [
    {
     "name": "stdout",
     "output_type": "stream",
     "text": [
      "(array([115, 162, 163], dtype=int64),) \n",
      " (array([122, 141, 179], dtype=int64),) \n",
      " (array([197], dtype=int64),) \n",
      " (array([115], dtype=int64),) \n",
      " (array([ 85, 167, 180], dtype=int64),) \n",
      " (array([ 75,  95, 115], dtype=int64),)\n"
     ]
    }
   ],
   "source": [
    "print(np.where(z1 > 3),'\\n',np.where(z2 > 3),'\\n',np.where(z3 > 3),'\\n',np.where(z4 > 3),'\\n',np.where(z5 > 3),'\\n',np.where(z6 > 3))"
   ]
  },
  {
   "cell_type": "code",
   "execution_count": 12,
   "metadata": {},
   "outputs": [
    {
     "data": {
      "text/html": [
       "<div>\n",
       "<style scoped>\n",
       "    .dataframe tbody tr th:only-of-type {\n",
       "        vertical-align: middle;\n",
       "    }\n",
       "\n",
       "    .dataframe tbody tr th {\n",
       "        vertical-align: top;\n",
       "    }\n",
       "\n",
       "    .dataframe thead th {\n",
       "        text-align: right;\n",
       "    }\n",
       "</style>\n",
       "<table border=\"1\" class=\"dataframe\">\n",
       "  <thead>\n",
       "    <tr style=\"text-align: right;\">\n",
       "      <th></th>\n",
       "      <th>pelvic_incidence</th>\n",
       "      <th>pelvic_tilt numeric</th>\n",
       "      <th>lumbar_lordosis_angle</th>\n",
       "      <th>sacral_slope</th>\n",
       "      <th>pelvic_radius</th>\n",
       "      <th>degree_spondylolisthesis</th>\n",
       "      <th>class</th>\n",
       "    </tr>\n",
       "  </thead>\n",
       "  <tbody>\n",
       "    <tr>\n",
       "      <th>115</th>\n",
       "      <td>129.834041</td>\n",
       "      <td>8.404475</td>\n",
       "      <td>48.384057</td>\n",
       "      <td>121.429566</td>\n",
       "      <td>107.690466</td>\n",
       "      <td>418.543082</td>\n",
       "      <td>Abnormal</td>\n",
       "    </tr>\n",
       "    <tr>\n",
       "      <th>162</th>\n",
       "      <td>118.144655</td>\n",
       "      <td>38.449501</td>\n",
       "      <td>50.838520</td>\n",
       "      <td>79.695154</td>\n",
       "      <td>81.024541</td>\n",
       "      <td>74.043767</td>\n",
       "      <td>Abnormal</td>\n",
       "    </tr>\n",
       "    <tr>\n",
       "      <th>163</th>\n",
       "      <td>115.923261</td>\n",
       "      <td>37.515436</td>\n",
       "      <td>76.800000</td>\n",
       "      <td>78.407825</td>\n",
       "      <td>104.698603</td>\n",
       "      <td>81.198927</td>\n",
       "      <td>Abnormal</td>\n",
       "    </tr>\n",
       "    <tr>\n",
       "      <th>122</th>\n",
       "      <td>80.074914</td>\n",
       "      <td>48.069531</td>\n",
       "      <td>52.403439</td>\n",
       "      <td>32.005383</td>\n",
       "      <td>110.709912</td>\n",
       "      <td>67.727316</td>\n",
       "      <td>Abnormal</td>\n",
       "    </tr>\n",
       "    <tr>\n",
       "      <th>141</th>\n",
       "      <td>89.504947</td>\n",
       "      <td>48.903653</td>\n",
       "      <td>72.003423</td>\n",
       "      <td>40.601295</td>\n",
       "      <td>134.634291</td>\n",
       "      <td>118.353370</td>\n",
       "      <td>Abnormal</td>\n",
       "    </tr>\n",
       "    <tr>\n",
       "      <th>179</th>\n",
       "      <td>68.721910</td>\n",
       "      <td>49.431864</td>\n",
       "      <td>68.056012</td>\n",
       "      <td>19.290046</td>\n",
       "      <td>125.018517</td>\n",
       "      <td>54.691289</td>\n",
       "      <td>Abnormal</td>\n",
       "    </tr>\n",
       "    <tr>\n",
       "      <th>197</th>\n",
       "      <td>58.828379</td>\n",
       "      <td>37.577873</td>\n",
       "      <td>125.742385</td>\n",
       "      <td>21.250506</td>\n",
       "      <td>135.629418</td>\n",
       "      <td>117.314683</td>\n",
       "      <td>Abnormal</td>\n",
       "    </tr>\n",
       "    <tr>\n",
       "      <th>85</th>\n",
       "      <td>45.443750</td>\n",
       "      <td>9.906072</td>\n",
       "      <td>45.000000</td>\n",
       "      <td>35.537678</td>\n",
       "      <td>163.071041</td>\n",
       "      <td>20.315315</td>\n",
       "      <td>Abnormal</td>\n",
       "    </tr>\n",
       "    <tr>\n",
       "      <th>167</th>\n",
       "      <td>72.343594</td>\n",
       "      <td>16.420790</td>\n",
       "      <td>59.869012</td>\n",
       "      <td>55.922805</td>\n",
       "      <td>70.082575</td>\n",
       "      <td>12.072644</td>\n",
       "      <td>Abnormal</td>\n",
       "    </tr>\n",
       "    <tr>\n",
       "      <th>180</th>\n",
       "      <td>37.903910</td>\n",
       "      <td>4.479099</td>\n",
       "      <td>24.710274</td>\n",
       "      <td>33.424811</td>\n",
       "      <td>157.848799</td>\n",
       "      <td>33.607027</td>\n",
       "      <td>Abnormal</td>\n",
       "    </tr>\n",
       "    <tr>\n",
       "      <th>75</th>\n",
       "      <td>70.221452</td>\n",
       "      <td>39.822724</td>\n",
       "      <td>68.118403</td>\n",
       "      <td>30.398728</td>\n",
       "      <td>148.525562</td>\n",
       "      <td>145.378143</td>\n",
       "      <td>Abnormal</td>\n",
       "    </tr>\n",
       "    <tr>\n",
       "      <th>95</th>\n",
       "      <td>57.522356</td>\n",
       "      <td>33.647075</td>\n",
       "      <td>50.909858</td>\n",
       "      <td>23.875281</td>\n",
       "      <td>140.981712</td>\n",
       "      <td>148.753711</td>\n",
       "      <td>Abnormal</td>\n",
       "    </tr>\n",
       "  </tbody>\n",
       "</table>\n",
       "</div>"
      ],
      "text/plain": [
       "     pelvic_incidence  pelvic_tilt numeric  lumbar_lordosis_angle  \\\n",
       "115        129.834041             8.404475              48.384057   \n",
       "162        118.144655            38.449501              50.838520   \n",
       "163        115.923261            37.515436              76.800000   \n",
       "122         80.074914            48.069531              52.403439   \n",
       "141         89.504947            48.903653              72.003423   \n",
       "179         68.721910            49.431864              68.056012   \n",
       "197         58.828379            37.577873             125.742385   \n",
       "85          45.443750             9.906072              45.000000   \n",
       "167         72.343594            16.420790              59.869012   \n",
       "180         37.903910             4.479099              24.710274   \n",
       "75          70.221452            39.822724              68.118403   \n",
       "95          57.522356            33.647075              50.909858   \n",
       "\n",
       "     sacral_slope  pelvic_radius  degree_spondylolisthesis     class  \n",
       "115    121.429566     107.690466                418.543082  Abnormal  \n",
       "162     79.695154      81.024541                 74.043767  Abnormal  \n",
       "163     78.407825     104.698603                 81.198927  Abnormal  \n",
       "122     32.005383     110.709912                 67.727316  Abnormal  \n",
       "141     40.601295     134.634291                118.353370  Abnormal  \n",
       "179     19.290046     125.018517                 54.691289  Abnormal  \n",
       "197     21.250506     135.629418                117.314683  Abnormal  \n",
       "85      35.537678     163.071041                 20.315315  Abnormal  \n",
       "167     55.922805      70.082575                 12.072644  Abnormal  \n",
       "180     33.424811     157.848799                 33.607027  Abnormal  \n",
       "75      30.398728     148.525562                145.378143  Abnormal  \n",
       "95      23.875281     140.981712                148.753711  Abnormal  "
      ]
     },
     "execution_count": 12,
     "metadata": {},
     "output_type": "execute_result"
    }
   ],
   "source": [
    "# We can analyse the potential outliers and decide the ones that need to be removed\n",
    "\n",
    "outlier_rows_check=df.iloc[[115,162,163,122,141,179,197,85,167,180,75,95],:]\n",
    "outlier_rows=df.iloc[[115],:]\n",
    "outliers_index=outlier_rows.index\n",
    "outlier_rows_check\n",
    "\n",
    "# The observation at index 115 seems to be a consistent outlier across 3 features - pelvic_incidence, sacral_slope, and degree_spondylolisthesis\n",
    "# All other observations are not consistent outliers across multiple features"
   ]
  },
  {
   "cell_type": "code",
   "execution_count": 13,
   "metadata": {},
   "outputs": [
    {
     "data": {
      "text/html": [
       "<div>\n",
       "<style scoped>\n",
       "    .dataframe tbody tr th:only-of-type {\n",
       "        vertical-align: middle;\n",
       "    }\n",
       "\n",
       "    .dataframe tbody tr th {\n",
       "        vertical-align: top;\n",
       "    }\n",
       "\n",
       "    .dataframe thead th {\n",
       "        text-align: right;\n",
       "    }\n",
       "</style>\n",
       "<table border=\"1\" class=\"dataframe\">\n",
       "  <thead>\n",
       "    <tr style=\"text-align: right;\">\n",
       "      <th></th>\n",
       "      <th>count</th>\n",
       "      <th>mean</th>\n",
       "      <th>std</th>\n",
       "      <th>min</th>\n",
       "      <th>25%</th>\n",
       "      <th>50%</th>\n",
       "      <th>75%</th>\n",
       "      <th>max</th>\n",
       "    </tr>\n",
       "  </thead>\n",
       "  <tbody>\n",
       "    <tr>\n",
       "      <th>pelvic_incidence</th>\n",
       "      <td>310.0</td>\n",
       "      <td>60.496653</td>\n",
       "      <td>17.236520</td>\n",
       "      <td>26.147921</td>\n",
       "      <td>46.430294</td>\n",
       "      <td>58.691038</td>\n",
       "      <td>72.877696</td>\n",
       "      <td>129.834041</td>\n",
       "    </tr>\n",
       "    <tr>\n",
       "      <th>pelvic_tilt numeric</th>\n",
       "      <td>310.0</td>\n",
       "      <td>17.542822</td>\n",
       "      <td>10.008330</td>\n",
       "      <td>-6.554948</td>\n",
       "      <td>10.667069</td>\n",
       "      <td>16.357689</td>\n",
       "      <td>22.120395</td>\n",
       "      <td>49.431864</td>\n",
       "    </tr>\n",
       "    <tr>\n",
       "      <th>lumbar_lordosis_angle</th>\n",
       "      <td>310.0</td>\n",
       "      <td>51.930930</td>\n",
       "      <td>18.554064</td>\n",
       "      <td>14.000000</td>\n",
       "      <td>37.000000</td>\n",
       "      <td>49.562398</td>\n",
       "      <td>63.000000</td>\n",
       "      <td>125.742385</td>\n",
       "    </tr>\n",
       "    <tr>\n",
       "      <th>sacral_slope</th>\n",
       "      <td>310.0</td>\n",
       "      <td>42.953831</td>\n",
       "      <td>13.423102</td>\n",
       "      <td>13.366931</td>\n",
       "      <td>33.347122</td>\n",
       "      <td>42.404912</td>\n",
       "      <td>52.695888</td>\n",
       "      <td>121.429566</td>\n",
       "    </tr>\n",
       "    <tr>\n",
       "      <th>pelvic_radius</th>\n",
       "      <td>310.0</td>\n",
       "      <td>117.920655</td>\n",
       "      <td>13.317377</td>\n",
       "      <td>70.082575</td>\n",
       "      <td>110.709196</td>\n",
       "      <td>118.268178</td>\n",
       "      <td>125.467674</td>\n",
       "      <td>163.071041</td>\n",
       "    </tr>\n",
       "    <tr>\n",
       "      <th>degree_spondylolisthesis</th>\n",
       "      <td>310.0</td>\n",
       "      <td>26.296694</td>\n",
       "      <td>37.559027</td>\n",
       "      <td>-11.058179</td>\n",
       "      <td>1.603727</td>\n",
       "      <td>11.767934</td>\n",
       "      <td>41.287352</td>\n",
       "      <td>418.543082</td>\n",
       "    </tr>\n",
       "  </tbody>\n",
       "</table>\n",
       "</div>"
      ],
      "text/plain": [
       "                          count        mean        std        min         25%  \\\n",
       "pelvic_incidence          310.0   60.496653  17.236520  26.147921   46.430294   \n",
       "pelvic_tilt numeric       310.0   17.542822  10.008330  -6.554948   10.667069   \n",
       "lumbar_lordosis_angle     310.0   51.930930  18.554064  14.000000   37.000000   \n",
       "sacral_slope              310.0   42.953831  13.423102  13.366931   33.347122   \n",
       "pelvic_radius             310.0  117.920655  13.317377  70.082575  110.709196   \n",
       "degree_spondylolisthesis  310.0   26.296694  37.559027 -11.058179    1.603727   \n",
       "\n",
       "                                 50%         75%         max  \n",
       "pelvic_incidence           58.691038   72.877696  129.834041  \n",
       "pelvic_tilt numeric        16.357689   22.120395   49.431864  \n",
       "lumbar_lordosis_angle      49.562398   63.000000  125.742385  \n",
       "sacral_slope               42.404912   52.695888  121.429566  \n",
       "pelvic_radius             118.268178  125.467674  163.071041  \n",
       "degree_spondylolisthesis   11.767934   41.287352  418.543082  "
      ]
     },
     "execution_count": 13,
     "metadata": {},
     "output_type": "execute_result"
    }
   ],
   "source": [
    "# Comparing the observation at index 115 with the stats\n",
    "\n",
    "df.describe().transpose()"
   ]
  },
  {
   "cell_type": "code",
   "execution_count": 14,
   "metadata": {},
   "outputs": [
    {
     "name": "stderr",
     "output_type": "stream",
     "text": [
      "C:\\Users\\rajdb\\Anaconda3\\lib\\site-packages\\pandas\\core\\indexes\\base.py:3969: FutureWarning: Using a non-tuple sequence for multidimensional indexing is deprecated; use `arr[tuple(seq)]` instead of `arr[seq]`. In the future this will be interpreted as an array index, `arr[np.array(seq)]`, which will result either in an error or a different result.\n",
      "  result = getitem(key)\n"
     ]
    },
    {
     "data": {
      "text/plain": [
       "(309, 7)"
      ]
     },
     "execution_count": 14,
     "metadata": {},
     "output_type": "execute_result"
    }
   ],
   "source": [
    "# Dropping the observation at index 115 as an outlier\n",
    "\n",
    "new_df=df.drop(df.index[[outliers_index]])\n",
    "new_df.shape"
   ]
  },
  {
   "cell_type": "code",
   "execution_count": 15,
   "metadata": {},
   "outputs": [
    {
     "data": {
      "text/plain": [
       "<matplotlib.axes._subplots.AxesSubplot at 0x176ddc07550>"
      ]
     },
     "execution_count": 15,
     "metadata": {},
     "output_type": "execute_result"
    },
    {
     "data": {
      "image/png": "[encoded data removed]",
      "text/plain": [
       "<Figure size 720x720 with 6 Axes>"
      ]
     },
     "metadata": {
      "needs_background": "light"
     },
     "output_type": "display_data"
    }
   ],
   "source": [
    "# Using boxplot to plot each feature vs. class to see if there's a difference in the distribution between classes\n",
    "\n",
    "f,ax=plt.subplots(3,2,figsize=(10,10))\n",
    "f.subplots_adjust(wspace=0.5,hspace=0.5)\n",
    "\n",
    "sns.boxplot(new_df['class'],new_df['pelvic_radius'],ax=ax[0][0])\n",
    "sns.boxplot(new_df['class'],new_df['sacral_slope'],ax=ax[0][1])\n",
    "sns.boxplot(new_df['class'],new_df['pelvic_incidence'],ax=ax[1][0])\n",
    "sns.boxplot(new_df['class'],new_df['pelvic_tilt numeric'],ax=ax[1][1])\n",
    "sns.boxplot(new_df['class'],new_df['degree_spondylolisthesis'],ax=ax[2][0])\n",
    "sns.boxplot(new_df['class'],new_df['lumbar_lordosis_angle'],ax=ax[2][1])\n",
    "\n",
    "# pelvic_radius and degree_spondylolisthesis features seem to have some level of difference in the Abnormal vs. Normal distributions\n",
    "# This indicates that these could be important features is determining the class"
   ]
  },
  {
   "cell_type": "code",
   "execution_count": 16,
   "metadata": {},
   "outputs": [
    {
     "data": {
      "text/plain": [
       "<matplotlib.axes._subplots.AxesSubplot at 0x176dcfea1d0>"
      ]
     },
     "execution_count": 16,
     "metadata": {},
     "output_type": "execute_result"
    },
    {
     "data": {
      "image/png": "[encoded data removed]",
      "text/plain": [
       "<Figure size 432x288 with 2 Axes>"
      ]
     },
     "metadata": {
      "needs_background": "light"
     },
     "output_type": "display_data"
    }
   ],
   "source": [
    "# To check if there are redundant features, we can use the correlation matrix\n",
    "\n",
    "temp=new_df.drop('class',axis=1)\n",
    "corr=new_df.corr()\n",
    "sns.heatmap(corr,annot=True)\n",
    "\n",
    "# We see a correlation of +0,8 between pelvic_incidence and sacral_slope. \n",
    "# We also see a correlation of +0.74 between pelvic_incidence and lumbar_lordosis_angle.\n",
    "# Hence, we would be dropping pelvic_incidence as it is represented well by lumbar_lordosis_angle and sacral_slope"
   ]
  },
  {
   "cell_type": "code",
   "execution_count": 17,
   "metadata": {},
   "outputs": [],
   "source": [
    "# Removing 'pelvic_incidence' since it is highly correlated with other features as shown in the correlation matrix above\n",
    "# 'pelvic_incidence' is represented well by lumbar_lordosis_angle and sacral_slope\n",
    "\n",
    "new_df_2=new_df.drop(['pelvic_incidence'],axis=1)"
   ]
  },
  {
   "cell_type": "markdown",
   "metadata": {
    "colab_type": "text",
    "id": "SbD0YwYU37rt"
   },
   "source": [
    "# Encode the Class variable to integer."
   ]
  },
  {
   "cell_type": "code",
   "execution_count": 18,
   "metadata": {
    "colab": {},
    "colab_type": "code",
    "id": "NVDQZN-Y37ru"
   },
   "outputs": [],
   "source": [
    "labelencoder = LabelEncoder()\n",
    "new_df_2['class'] = labelencoder.fit_transform(new_df_2['class'])"
   ]
  },
  {
   "cell_type": "code",
   "execution_count": 19,
   "metadata": {
    "colab": {},
    "colab_type": "code",
    "id": "fhK4F8TW37rz"
   },
   "outputs": [
    {
     "data": {
      "text/html": [
       "<div>\n",
       "<style scoped>\n",
       "    .dataframe tbody tr th:only-of-type {\n",
       "        vertical-align: middle;\n",
       "    }\n",
       "\n",
       "    .dataframe tbody tr th {\n",
       "        vertical-align: top;\n",
       "    }\n",
       "\n",
       "    .dataframe thead th {\n",
       "        text-align: right;\n",
       "    }\n",
       "</style>\n",
       "<table border=\"1\" class=\"dataframe\">\n",
       "  <thead>\n",
       "    <tr style=\"text-align: right;\">\n",
       "      <th></th>\n",
       "      <th>pelvic_tilt numeric</th>\n",
       "      <th>lumbar_lordosis_angle</th>\n",
       "      <th>sacral_slope</th>\n",
       "      <th>pelvic_radius</th>\n",
       "      <th>degree_spondylolisthesis</th>\n",
       "      <th>class</th>\n",
       "    </tr>\n",
       "  </thead>\n",
       "  <tbody>\n",
       "    <tr>\n",
       "      <th>0</th>\n",
       "      <td>22.552586</td>\n",
       "      <td>39.609117</td>\n",
       "      <td>40.475232</td>\n",
       "      <td>98.672917</td>\n",
       "      <td>-0.254400</td>\n",
       "      <td>0</td>\n",
       "    </tr>\n",
       "    <tr>\n",
       "      <th>1</th>\n",
       "      <td>10.060991</td>\n",
       "      <td>25.015378</td>\n",
       "      <td>28.995960</td>\n",
       "      <td>114.405425</td>\n",
       "      <td>4.564259</td>\n",
       "      <td>0</td>\n",
       "    </tr>\n",
       "    <tr>\n",
       "      <th>2</th>\n",
       "      <td>22.218482</td>\n",
       "      <td>50.092194</td>\n",
       "      <td>46.613539</td>\n",
       "      <td>105.985135</td>\n",
       "      <td>-3.530317</td>\n",
       "      <td>0</td>\n",
       "    </tr>\n",
       "    <tr>\n",
       "      <th>3</th>\n",
       "      <td>24.652878</td>\n",
       "      <td>44.311238</td>\n",
       "      <td>44.644130</td>\n",
       "      <td>101.868495</td>\n",
       "      <td>11.211523</td>\n",
       "      <td>0</td>\n",
       "    </tr>\n",
       "    <tr>\n",
       "      <th>4</th>\n",
       "      <td>9.652075</td>\n",
       "      <td>28.317406</td>\n",
       "      <td>40.060784</td>\n",
       "      <td>108.168725</td>\n",
       "      <td>7.918501</td>\n",
       "      <td>0</td>\n",
       "    </tr>\n",
       "  </tbody>\n",
       "</table>\n",
       "</div>"
      ],
      "text/plain": [
       "   pelvic_tilt numeric  lumbar_lordosis_angle  sacral_slope  pelvic_radius  \\\n",
       "0            22.552586              39.609117     40.475232      98.672917   \n",
       "1            10.060991              25.015378     28.995960     114.405425   \n",
       "2            22.218482              50.092194     46.613539     105.985135   \n",
       "3            24.652878              44.311238     44.644130     101.868495   \n",
       "4             9.652075              28.317406     40.060784     108.168725   \n",
       "\n",
       "   degree_spondylolisthesis  class  \n",
       "0                 -0.254400      0  \n",
       "1                  4.564259      0  \n",
       "2                 -3.530317      0  \n",
       "3                 11.211523      0  \n",
       "4                  7.918501      0  "
      ]
     },
     "execution_count": 19,
     "metadata": {},
     "output_type": "execute_result"
    }
   ],
   "source": [
    "new_df_2.head()"
   ]
  },
  {
   "cell_type": "markdown",
   "metadata": {
    "_uuid": "b232c9d469373b555c06dc95e35c83c3aee67a4f",
    "colab_type": "text",
    "id": "Sw7qjm5x37r2"
   },
   "source": [
    "# Create the X(Feature-set) and Y(Target-set) sets for your Data."
   ]
  },
  {
   "cell_type": "code",
   "execution_count": 20,
   "metadata": {
    "colab": {},
    "colab_type": "code",
    "id": "RkfUlQg637r3"
   },
   "outputs": [
    {
     "data": {
      "text/html": [
       "<div>\n",
       "<style scoped>\n",
       "    .dataframe tbody tr th:only-of-type {\n",
       "        vertical-align: middle;\n",
       "    }\n",
       "\n",
       "    .dataframe tbody tr th {\n",
       "        vertical-align: top;\n",
       "    }\n",
       "\n",
       "    .dataframe thead th {\n",
       "        text-align: right;\n",
       "    }\n",
       "</style>\n",
       "<table border=\"1\" class=\"dataframe\">\n",
       "  <thead>\n",
       "    <tr style=\"text-align: right;\">\n",
       "      <th></th>\n",
       "      <th>pelvic_tilt numeric</th>\n",
       "      <th>lumbar_lordosis_angle</th>\n",
       "      <th>sacral_slope</th>\n",
       "      <th>pelvic_radius</th>\n",
       "      <th>degree_spondylolisthesis</th>\n",
       "    </tr>\n",
       "  </thead>\n",
       "  <tbody>\n",
       "    <tr>\n",
       "      <th>0</th>\n",
       "      <td>22.552586</td>\n",
       "      <td>39.609117</td>\n",
       "      <td>40.475232</td>\n",
       "      <td>98.672917</td>\n",
       "      <td>-0.254400</td>\n",
       "    </tr>\n",
       "    <tr>\n",
       "      <th>1</th>\n",
       "      <td>10.060991</td>\n",
       "      <td>25.015378</td>\n",
       "      <td>28.995960</td>\n",
       "      <td>114.405425</td>\n",
       "      <td>4.564259</td>\n",
       "    </tr>\n",
       "    <tr>\n",
       "      <th>2</th>\n",
       "      <td>22.218482</td>\n",
       "      <td>50.092194</td>\n",
       "      <td>46.613539</td>\n",
       "      <td>105.985135</td>\n",
       "      <td>-3.530317</td>\n",
       "    </tr>\n",
       "    <tr>\n",
       "      <th>3</th>\n",
       "      <td>24.652878</td>\n",
       "      <td>44.311238</td>\n",
       "      <td>44.644130</td>\n",
       "      <td>101.868495</td>\n",
       "      <td>11.211523</td>\n",
       "    </tr>\n",
       "    <tr>\n",
       "      <th>4</th>\n",
       "      <td>9.652075</td>\n",
       "      <td>28.317406</td>\n",
       "      <td>40.060784</td>\n",
       "      <td>108.168725</td>\n",
       "      <td>7.918501</td>\n",
       "    </tr>\n",
       "  </tbody>\n",
       "</table>\n",
       "</div>"
      ],
      "text/plain": [
       "   pelvic_tilt numeric  lumbar_lordosis_angle  sacral_slope  pelvic_radius  \\\n",
       "0            22.552586              39.609117     40.475232      98.672917   \n",
       "1            10.060991              25.015378     28.995960     114.405425   \n",
       "2            22.218482              50.092194     46.613539     105.985135   \n",
       "3            24.652878              44.311238     44.644130     101.868495   \n",
       "4             9.652075              28.317406     40.060784     108.168725   \n",
       "\n",
       "   degree_spondylolisthesis  \n",
       "0                 -0.254400  \n",
       "1                  4.564259  \n",
       "2                 -3.530317  \n",
       "3                 11.211523  \n",
       "4                  7.918501  "
      ]
     },
     "execution_count": 20,
     "metadata": {},
     "output_type": "execute_result"
    }
   ],
   "source": [
    "new_df_features=new_df_2.drop(['class'],axis=1)\n",
    "new_df_features.head()"
   ]
  },
  {
   "cell_type": "code",
   "execution_count": 21,
   "metadata": {},
   "outputs": [],
   "source": [
    "X=new_df_features\n",
    "y=new_df_2[['class']]"
   ]
  },
  {
   "cell_type": "markdown",
   "metadata": {
    "colab_type": "text",
    "id": "zRaflJ3k37r-"
   },
   "source": [
    "# Normalize your Data (X) to get values between 0 to 1."
   ]
  },
  {
   "cell_type": "code",
   "execution_count": 22,
   "metadata": {
    "colab": {},
    "colab_type": "code",
    "id": "IIXs9mbe37r-"
   },
   "outputs": [
    {
     "data": {
      "text/html": [
       "<div>\n",
       "<style scoped>\n",
       "    .dataframe tbody tr th:only-of-type {\n",
       "        vertical-align: middle;\n",
       "    }\n",
       "\n",
       "    .dataframe tbody tr th {\n",
       "        vertical-align: top;\n",
       "    }\n",
       "\n",
       "    .dataframe thead th {\n",
       "        text-align: right;\n",
       "    }\n",
       "</style>\n",
       "<table border=\"1\" class=\"dataframe\">\n",
       "  <thead>\n",
       "    <tr style=\"text-align: right;\">\n",
       "      <th></th>\n",
       "      <th>pelvic_tilt numeric</th>\n",
       "      <th>lumbar_lordosis_angle</th>\n",
       "      <th>sacral_slope</th>\n",
       "      <th>pelvic_radius</th>\n",
       "      <th>degree_spondylolisthesis</th>\n",
       "    </tr>\n",
       "  </thead>\n",
       "  <tbody>\n",
       "    <tr>\n",
       "      <th>0</th>\n",
       "      <td>0.519900</td>\n",
       "      <td>0.229180</td>\n",
       "      <td>0.408699</td>\n",
       "      <td>0.307461</td>\n",
       "      <td>0.067603</td>\n",
       "    </tr>\n",
       "    <tr>\n",
       "      <th>1</th>\n",
       "      <td>0.296783</td>\n",
       "      <td>0.098578</td>\n",
       "      <td>0.235632</td>\n",
       "      <td>0.476649</td>\n",
       "      <td>0.097755</td>\n",
       "    </tr>\n",
       "    <tr>\n",
       "      <th>2</th>\n",
       "      <td>0.513932</td>\n",
       "      <td>0.322995</td>\n",
       "      <td>0.501244</td>\n",
       "      <td>0.386097</td>\n",
       "      <td>0.047105</td>\n",
       "    </tr>\n",
       "    <tr>\n",
       "      <th>3</th>\n",
       "      <td>0.557414</td>\n",
       "      <td>0.271260</td>\n",
       "      <td>0.471552</td>\n",
       "      <td>0.341826</td>\n",
       "      <td>0.139349</td>\n",
       "    </tr>\n",
       "    <tr>\n",
       "      <th>4</th>\n",
       "      <td>0.289479</td>\n",
       "      <td>0.128129</td>\n",
       "      <td>0.402451</td>\n",
       "      <td>0.409579</td>\n",
       "      <td>0.118744</td>\n",
       "    </tr>\n",
       "  </tbody>\n",
       "</table>\n",
       "</div>"
      ],
      "text/plain": [
       "   pelvic_tilt numeric  lumbar_lordosis_angle  sacral_slope  pelvic_radius  \\\n",
       "0             0.519900               0.229180      0.408699       0.307461   \n",
       "1             0.296783               0.098578      0.235632       0.476649   \n",
       "2             0.513932               0.322995      0.501244       0.386097   \n",
       "3             0.557414               0.271260      0.471552       0.341826   \n",
       "4             0.289479               0.128129      0.402451       0.409579   \n",
       "\n",
       "   degree_spondylolisthesis  \n",
       "0                  0.067603  \n",
       "1                  0.097755  \n",
       "2                  0.047105  \n",
       "3                  0.139349  \n",
       "4                  0.118744  "
      ]
     },
     "execution_count": 22,
     "metadata": {},
     "output_type": "execute_result"
    }
   ],
   "source": [
    "scaler=MinMaxScaler()\n",
    "X=scaler.fit_transform(X)\n",
    "X = pd.DataFrame(X, columns=new_df_features.columns)\n",
    "X.head()"
   ]
  },
  {
   "cell_type": "markdown",
   "metadata": {
    "_uuid": "92312942664a740d971f8f4aa30f2485ee58826a",
    "colab_type": "text",
    "id": "4AyLHTZH37sD"
   },
   "source": [
    "# Split the dat as train and test with a ratio of 70:30."
   ]
  },
  {
   "cell_type": "code",
   "execution_count": 23,
   "metadata": {
    "colab": {},
    "colab_type": "code",
    "id": "7c3lK96D37sE"
   },
   "outputs": [],
   "source": [
    "X_train,X_test,y_train,y_test=train_test_split(X,y,test_size=0.30,random_state=1,stratify=y)"
   ]
  },
  {
   "cell_type": "markdown",
   "metadata": {
    "_uuid": "82a731c032b33691506467a242e3ceb8a1d29799",
    "colab_type": "text",
    "id": "v1490fyH37sJ"
   },
   "source": [
    "# Build the KNN model using Train Dataset and predict the class on test dataset."
   ]
  },
  {
   "cell_type": "code",
   "execution_count": 24,
   "metadata": {
    "colab": {},
    "colab_type": "code",
    "id": "dyHtQvLR37sK"
   },
   "outputs": [
    {
     "name": "stderr",
     "output_type": "stream",
     "text": [
      "C:\\Users\\rajdb\\Anaconda3\\lib\\site-packages\\ipykernel_launcher.py:4: DataConversionWarning: A column-vector y was passed when a 1d array was expected. Please change the shape of y to (n_samples, ), for example using ravel().\n",
      "  after removing the cwd from sys.path.\n"
     ]
    },
    {
     "data": {
      "text/plain": [
       "KNeighborsClassifier(algorithm='auto', leaf_size=30, metric='minkowski',\n",
       "                     metric_params=None, n_jobs=None, n_neighbors=5, p=2,\n",
       "                     weights='uniform')"
      ]
     },
     "execution_count": 24,
     "metadata": {},
     "output_type": "execute_result"
    }
   ],
   "source": [
    "# Creating a KNN object with a sample k-value of 5 \n",
    "\n",
    "NHH=KNeighborsClassifier(n_neighbors=5)\n",
    "NHH.fit(X_train,y_train)"
   ]
  },
  {
   "cell_type": "code",
   "execution_count": 25,
   "metadata": {
    "colab": {},
    "colab_type": "code",
    "id": "sip0VqNF37sM"
   },
   "outputs": [],
   "source": [
    "# Predicting the class on the data set\n",
    "\n",
    "predicted_labels=NHH.predict(X_test)"
   ]
  },
  {
   "cell_type": "markdown",
   "metadata": {
    "colab_type": "text",
    "id": "Pq5PhlZb37sO"
   },
   "source": [
    "# Calculate the performance score of of your classification on test dataset.\n",
    "Hint- You can use knn.score( ) function."
   ]
  },
  {
   "cell_type": "code",
   "execution_count": 26,
   "metadata": {
    "colab": {},
    "colab_type": "code",
    "id": "rnlVqgbP37sP"
   },
   "outputs": [
    {
     "data": {
      "text/plain": [
       "0.8387096774193549"
      ]
     },
     "execution_count": 26,
     "metadata": {},
     "output_type": "execute_result"
    }
   ],
   "source": [
    "# Measuring accuracy\n",
    "\n",
    "NHH.score(X_test,y_test)"
   ]
  },
  {
   "cell_type": "markdown",
   "metadata": {
    "colab_type": "text",
    "id": "N2kyeRqk37sX"
   },
   "source": [
    "# What is the best K value for your classifcation?\n",
    "#Find at which k value you get the best score."
   ]
  },
  {
   "cell_type": "code",
   "execution_count": 27,
   "metadata": {
    "colab": {},
    "colab_type": "code",
    "id": "nmsOTGp-37sa"
   },
   "outputs": [],
   "source": [
    "# Creating a list of k-values from 1 to sqrt(n) as indicated by the thumb rule for optimal k-value\n",
    "\n",
    "k_values=[var for var in range(1,int(round(np.sqrt(len(new_df_2))))) if var % 2 != 0]"
   ]
  },
  {
   "cell_type": "code",
   "execution_count": 28,
   "metadata": {
    "colab": {},
    "colab_type": "code",
    "id": "iglB-Bmy37sf"
   },
   "outputs": [
    {
     "data": {
      "text/plain": [
       "[1, 3, 5, 7, 9, 11, 13, 15, 17]"
      ]
     },
     "execution_count": 28,
     "metadata": {},
     "output_type": "execute_result"
    }
   ],
   "source": [
    "k_values"
   ]
  },
  {
   "cell_type": "code",
   "execution_count": 29,
   "metadata": {
    "colab": {},
    "colab_type": "code",
    "id": "TdQu97l437sj"
   },
   "outputs": [
    {
     "name": "stderr",
     "output_type": "stream",
     "text": [
      "C:\\Users\\rajdb\\Anaconda3\\lib\\site-packages\\ipykernel_launcher.py:6: DataConversionWarning: A column-vector y was passed when a 1d array was expected. Please change the shape of y to (n_samples, ), for example using ravel().\n",
      "  \n",
      "C:\\Users\\rajdb\\Anaconda3\\lib\\site-packages\\ipykernel_launcher.py:6: DataConversionWarning: A column-vector y was passed when a 1d array was expected. Please change the shape of y to (n_samples, ), for example using ravel().\n",
      "  \n",
      "C:\\Users\\rajdb\\Anaconda3\\lib\\site-packages\\ipykernel_launcher.py:6: DataConversionWarning: A column-vector y was passed when a 1d array was expected. Please change the shape of y to (n_samples, ), for example using ravel().\n",
      "  \n",
      "C:\\Users\\rajdb\\Anaconda3\\lib\\site-packages\\ipykernel_launcher.py:6: DataConversionWarning: A column-vector y was passed when a 1d array was expected. Please change the shape of y to (n_samples, ), for example using ravel().\n",
      "  \n",
      "C:\\Users\\rajdb\\Anaconda3\\lib\\site-packages\\ipykernel_launcher.py:6: DataConversionWarning: A column-vector y was passed when a 1d array was expected. Please change the shape of y to (n_samples, ), for example using ravel().\n",
      "  \n",
      "C:\\Users\\rajdb\\Anaconda3\\lib\\site-packages\\ipykernel_launcher.py:6: DataConversionWarning: A column-vector y was passed when a 1d array was expected. Please change the shape of y to (n_samples, ), for example using ravel().\n",
      "  \n",
      "C:\\Users\\rajdb\\Anaconda3\\lib\\site-packages\\ipykernel_launcher.py:6: DataConversionWarning: A column-vector y was passed when a 1d array was expected. Please change the shape of y to (n_samples, ), for example using ravel().\n",
      "  \n",
      "C:\\Users\\rajdb\\Anaconda3\\lib\\site-packages\\ipykernel_launcher.py:6: DataConversionWarning: A column-vector y was passed when a 1d array was expected. Please change the shape of y to (n_samples, ), for example using ravel().\n",
      "  \n"
     ]
    },
    {
     "name": "stdout",
     "output_type": "stream",
     "text": [
      "Score for k=1 0.8064516129032258\n",
      "Score for k=3 0.8064516129032258\n",
      "Score for k=5 0.8387096774193549\n",
      "Score for k=7 0.8387096774193549\n",
      "Score for k=9 0.8387096774193549\n",
      "Score for k=11 0.8494623655913979\n",
      "Score for k=13 0.8602150537634409\n",
      "Score for k=15 0.8817204301075269\n",
      "Score for k=17 0.8817204301075269\n"
     ]
    },
    {
     "name": "stderr",
     "output_type": "stream",
     "text": [
      "C:\\Users\\rajdb\\Anaconda3\\lib\\site-packages\\ipykernel_launcher.py:6: DataConversionWarning: A column-vector y was passed when a 1d array was expected. Please change the shape of y to (n_samples, ), for example using ravel().\n",
      "  \n"
     ]
    }
   ],
   "source": [
    "# Running the KNN model for all odd values from 1 to 17\n",
    "\n",
    "appended_data=[]\n",
    "def optimal_k(i):\n",
    "    model_optimal = KNeighborsClassifier(n_neighbors=i)\n",
    "    model_optimal.fit(X_train,y_train)\n",
    "    predicted_labels=model_optimal.predict(X_test)\n",
    "    print(\"Score for k={} {}\".format(i,model_optimal.score(X_test,y_test)))\n",
    "    return model_optimal.score(X_test,y_test)\n",
    "for i in k_values:\n",
    "    appended_data.append(optimal_k(i))\n",
    "\n",
    "# We see that 17, which is closest to the sqrt(n), is the optimal k-value"
   ]
  },
  {
   "cell_type": "code",
   "execution_count": 30,
   "metadata": {},
   "outputs": [
    {
     "data": {
      "text/plain": [
       "<matplotlib.axes._subplots.AxesSubplot at 0x176dee51ba8>"
      ]
     },
     "execution_count": 30,
     "metadata": {},
     "output_type": "execute_result"
    },
    {
     "data": {
      "image/png": "[encoded data removed]",
      "text/plain": [
       "<Figure size 432x288 with 1 Axes>"
      ]
     },
     "metadata": {
      "needs_background": "light"
     },
     "output_type": "display_data"
    }
   ],
   "source": [
    "sns.lineplot(k_values,y=appended_data)"
   ]
  },
  {
   "cell_type": "code",
   "execution_count": 31,
   "metadata": {},
   "outputs": [
    {
     "name": "stderr",
     "output_type": "stream",
     "text": [
      "C:\\Users\\rajdb\\Anaconda3\\lib\\site-packages\\ipykernel_launcher.py:4: DataConversionWarning: A column-vector y was passed when a 1d array was expected. Please change the shape of y to (n_samples, ), for example using ravel().\n",
      "  after removing the cwd from sys.path.\n"
     ]
    },
    {
     "data": {
      "text/plain": [
       "0.8817204301075269"
      ]
     },
     "execution_count": 31,
     "metadata": {},
     "output_type": "execute_result"
    }
   ],
   "source": [
    "# Running the KNN model again with k=17\n",
    "\n",
    "NHH17=KNeighborsClassifier(n_neighbors=17)\n",
    "NHH17.fit(X_train,y_train)\n",
    "predicted_labels=NHH17.predict(X_test)\n",
    "NHH17.score(X_test,y_test)"
   ]
  },
  {
   "cell_type": "code",
   "execution_count": 32,
   "metadata": {},
   "outputs": [
    {
     "data": {
      "text/plain": [
       "array([[56,  4],\n",
       "       [ 7, 26]], dtype=int64)"
      ]
     },
     "execution_count": 32,
     "metadata": {},
     "output_type": "execute_result"
    }
   ],
   "source": [
    "#Creating the confusion matrix for the KNN model with k=17\n",
    "\n",
    "confusion_matrix(predicted_labels,y_test)"
   ]
  },
  {
   "cell_type": "markdown",
   "metadata": {
    "colab_type": "text",
    "id": "F4cqH9Jr37sm"
   },
   "source": [
    "# import data 3C_weka.csv for 3 Class Classifcation and repeat all the steps which are given above."
   ]
  },
  {
   "cell_type": "code",
   "execution_count": 33,
   "metadata": {
    "colab": {},
    "colab_type": "code",
    "id": "kvLjUl4x37sn"
   },
   "outputs": [],
   "source": [
    "df_3C=pd.read_csv('3Classdata.csv')"
   ]
  },
  {
   "cell_type": "code",
   "execution_count": 34,
   "metadata": {},
   "outputs": [
    {
     "data": {
      "text/plain": [
       "(310, 7)"
      ]
     },
     "execution_count": 34,
     "metadata": {},
     "output_type": "execute_result"
    }
   ],
   "source": [
    "df_3C.shape"
   ]
  },
  {
   "cell_type": "code",
   "execution_count": 35,
   "metadata": {},
   "outputs": [
    {
     "data": {
      "text/html": [
       "<div>\n",
       "<style scoped>\n",
       "    .dataframe tbody tr th:only-of-type {\n",
       "        vertical-align: middle;\n",
       "    }\n",
       "\n",
       "    .dataframe tbody tr th {\n",
       "        vertical-align: top;\n",
       "    }\n",
       "\n",
       "    .dataframe thead th {\n",
       "        text-align: right;\n",
       "    }\n",
       "</style>\n",
       "<table border=\"1\" class=\"dataframe\">\n",
       "  <thead>\n",
       "    <tr style=\"text-align: right;\">\n",
       "      <th></th>\n",
       "      <th>pelvic_incidence</th>\n",
       "      <th>pelvic_tilt</th>\n",
       "      <th>lumbar_lordosis_angle</th>\n",
       "      <th>sacral_slope</th>\n",
       "      <th>pelvic_radius</th>\n",
       "      <th>degree_spondylolisthesis</th>\n",
       "      <th>class</th>\n",
       "    </tr>\n",
       "  </thead>\n",
       "  <tbody>\n",
       "    <tr>\n",
       "      <th>0</th>\n",
       "      <td>63.027818</td>\n",
       "      <td>22.552586</td>\n",
       "      <td>39.609117</td>\n",
       "      <td>40.475232</td>\n",
       "      <td>98.672917</td>\n",
       "      <td>-0.254400</td>\n",
       "      <td>Hernia</td>\n",
       "    </tr>\n",
       "    <tr>\n",
       "      <th>1</th>\n",
       "      <td>39.056951</td>\n",
       "      <td>10.060991</td>\n",
       "      <td>25.015378</td>\n",
       "      <td>28.995960</td>\n",
       "      <td>114.405425</td>\n",
       "      <td>4.564259</td>\n",
       "      <td>Hernia</td>\n",
       "    </tr>\n",
       "    <tr>\n",
       "      <th>2</th>\n",
       "      <td>68.832021</td>\n",
       "      <td>22.218482</td>\n",
       "      <td>50.092194</td>\n",
       "      <td>46.613539</td>\n",
       "      <td>105.985135</td>\n",
       "      <td>-3.530317</td>\n",
       "      <td>Hernia</td>\n",
       "    </tr>\n",
       "    <tr>\n",
       "      <th>3</th>\n",
       "      <td>69.297008</td>\n",
       "      <td>24.652878</td>\n",
       "      <td>44.311238</td>\n",
       "      <td>44.644130</td>\n",
       "      <td>101.868495</td>\n",
       "      <td>11.211523</td>\n",
       "      <td>Hernia</td>\n",
       "    </tr>\n",
       "    <tr>\n",
       "      <th>4</th>\n",
       "      <td>49.712859</td>\n",
       "      <td>9.652075</td>\n",
       "      <td>28.317406</td>\n",
       "      <td>40.060784</td>\n",
       "      <td>108.168725</td>\n",
       "      <td>7.918501</td>\n",
       "      <td>Hernia</td>\n",
       "    </tr>\n",
       "  </tbody>\n",
       "</table>\n",
       "</div>"
      ],
      "text/plain": [
       "   pelvic_incidence  pelvic_tilt  lumbar_lordosis_angle  sacral_slope  \\\n",
       "0         63.027818    22.552586              39.609117     40.475232   \n",
       "1         39.056951    10.060991              25.015378     28.995960   \n",
       "2         68.832021    22.218482              50.092194     46.613539   \n",
       "3         69.297008    24.652878              44.311238     44.644130   \n",
       "4         49.712859     9.652075              28.317406     40.060784   \n",
       "\n",
       "   pelvic_radius  degree_spondylolisthesis   class  \n",
       "0      98.672917                 -0.254400  Hernia  \n",
       "1     114.405425                  4.564259  Hernia  \n",
       "2     105.985135                 -3.530317  Hernia  \n",
       "3     101.868495                 11.211523  Hernia  \n",
       "4     108.168725                  7.918501  Hernia  "
      ]
     },
     "execution_count": 35,
     "metadata": {},
     "output_type": "execute_result"
    }
   ],
   "source": [
    "df_3C.head()"
   ]
  },
  {
   "cell_type": "code",
   "execution_count": 36,
   "metadata": {},
   "outputs": [
    {
     "data": {
      "text/html": [
       "<div>\n",
       "<style scoped>\n",
       "    .dataframe tbody tr th:only-of-type {\n",
       "        vertical-align: middle;\n",
       "    }\n",
       "\n",
       "    .dataframe tbody tr th {\n",
       "        vertical-align: top;\n",
       "    }\n",
       "\n",
       "    .dataframe thead th {\n",
       "        text-align: right;\n",
       "    }\n",
       "</style>\n",
       "<table border=\"1\" class=\"dataframe\">\n",
       "  <thead>\n",
       "    <tr style=\"text-align: right;\">\n",
       "      <th></th>\n",
       "      <th>pelvic_incidence</th>\n",
       "      <th>pelvic_tilt</th>\n",
       "      <th>lumbar_lordosis_angle</th>\n",
       "      <th>sacral_slope</th>\n",
       "      <th>pelvic_radius</th>\n",
       "      <th>degree_spondylolisthesis</th>\n",
       "      <th>class</th>\n",
       "    </tr>\n",
       "  </thead>\n",
       "  <tbody>\n",
       "    <tr>\n",
       "      <th>305</th>\n",
       "      <td>47.903565</td>\n",
       "      <td>13.616688</td>\n",
       "      <td>36.000000</td>\n",
       "      <td>34.286877</td>\n",
       "      <td>117.449062</td>\n",
       "      <td>-4.245395</td>\n",
       "      <td>Normal</td>\n",
       "    </tr>\n",
       "    <tr>\n",
       "      <th>306</th>\n",
       "      <td>53.936748</td>\n",
       "      <td>20.721496</td>\n",
       "      <td>29.220534</td>\n",
       "      <td>33.215251</td>\n",
       "      <td>114.365845</td>\n",
       "      <td>-0.421010</td>\n",
       "      <td>Normal</td>\n",
       "    </tr>\n",
       "    <tr>\n",
       "      <th>307</th>\n",
       "      <td>61.446597</td>\n",
       "      <td>22.694968</td>\n",
       "      <td>46.170347</td>\n",
       "      <td>38.751628</td>\n",
       "      <td>125.670725</td>\n",
       "      <td>-2.707880</td>\n",
       "      <td>Normal</td>\n",
       "    </tr>\n",
       "    <tr>\n",
       "      <th>308</th>\n",
       "      <td>45.252792</td>\n",
       "      <td>8.693157</td>\n",
       "      <td>41.583126</td>\n",
       "      <td>36.559635</td>\n",
       "      <td>118.545842</td>\n",
       "      <td>0.214750</td>\n",
       "      <td>Normal</td>\n",
       "    </tr>\n",
       "    <tr>\n",
       "      <th>309</th>\n",
       "      <td>33.841641</td>\n",
       "      <td>5.073991</td>\n",
       "      <td>36.641233</td>\n",
       "      <td>28.767649</td>\n",
       "      <td>123.945244</td>\n",
       "      <td>-0.199249</td>\n",
       "      <td>Normal</td>\n",
       "    </tr>\n",
       "  </tbody>\n",
       "</table>\n",
       "</div>"
      ],
      "text/plain": [
       "     pelvic_incidence  pelvic_tilt  lumbar_lordosis_angle  sacral_slope  \\\n",
       "305         47.903565    13.616688              36.000000     34.286877   \n",
       "306         53.936748    20.721496              29.220534     33.215251   \n",
       "307         61.446597    22.694968              46.170347     38.751628   \n",
       "308         45.252792     8.693157              41.583126     36.559635   \n",
       "309         33.841641     5.073991              36.641233     28.767649   \n",
       "\n",
       "     pelvic_radius  degree_spondylolisthesis   class  \n",
       "305     117.449062                 -4.245395  Normal  \n",
       "306     114.365845                 -0.421010  Normal  \n",
       "307     125.670725                 -2.707880  Normal  \n",
       "308     118.545842                  0.214750  Normal  \n",
       "309     123.945244                 -0.199249  Normal  "
      ]
     },
     "execution_count": 36,
     "metadata": {},
     "output_type": "execute_result"
    }
   ],
   "source": [
    "df_3C.tail()"
   ]
  },
  {
   "cell_type": "code",
   "execution_count": 37,
   "metadata": {},
   "outputs": [
    {
     "name": "stdout",
     "output_type": "stream",
     "text": [
      "<class 'pandas.core.frame.DataFrame'>\n",
      "RangeIndex: 310 entries, 0 to 309\n",
      "Data columns (total 7 columns):\n",
      "pelvic_incidence            310 non-null float64\n",
      "pelvic_tilt                 310 non-null float64\n",
      "lumbar_lordosis_angle       310 non-null float64\n",
      "sacral_slope                310 non-null float64\n",
      "pelvic_radius               310 non-null float64\n",
      "degree_spondylolisthesis    310 non-null float64\n",
      "class                       310 non-null object\n",
      "dtypes: float64(6), object(1)\n",
      "memory usage: 17.0+ KB\n"
     ]
    }
   ],
   "source": [
    "# There are no null values and the data types of all features are correct\n",
    "\n",
    "df_3C.info()"
   ]
  },
  {
   "cell_type": "code",
   "execution_count": 38,
   "metadata": {},
   "outputs": [
    {
     "data": {
      "text/plain": [
       "array(['Hernia', 'Spondylolisthesis', 'Normal'], dtype=object)"
      ]
     },
     "execution_count": 38,
     "metadata": {},
     "output_type": "execute_result"
    }
   ],
   "source": [
    "df_3C['class'].unique()"
   ]
  },
  {
   "cell_type": "code",
   "execution_count": 39,
   "metadata": {},
   "outputs": [
    {
     "data": {
      "text/html": [
       "<div>\n",
       "<style scoped>\n",
       "    .dataframe tbody tr th:only-of-type {\n",
       "        vertical-align: middle;\n",
       "    }\n",
       "\n",
       "    .dataframe tbody tr th {\n",
       "        vertical-align: top;\n",
       "    }\n",
       "\n",
       "    .dataframe thead th {\n",
       "        text-align: right;\n",
       "    }\n",
       "</style>\n",
       "<table border=\"1\" class=\"dataframe\">\n",
       "  <thead>\n",
       "    <tr style=\"text-align: right;\">\n",
       "      <th></th>\n",
       "      <th>count</th>\n",
       "      <th>mean</th>\n",
       "      <th>std</th>\n",
       "      <th>min</th>\n",
       "      <th>25%</th>\n",
       "      <th>50%</th>\n",
       "      <th>75%</th>\n",
       "      <th>max</th>\n",
       "    </tr>\n",
       "  </thead>\n",
       "  <tbody>\n",
       "    <tr>\n",
       "      <th>pelvic_incidence</th>\n",
       "      <td>310.0</td>\n",
       "      <td>60.496653</td>\n",
       "      <td>17.236520</td>\n",
       "      <td>26.147921</td>\n",
       "      <td>46.430294</td>\n",
       "      <td>58.691038</td>\n",
       "      <td>72.877696</td>\n",
       "      <td>129.834041</td>\n",
       "    </tr>\n",
       "    <tr>\n",
       "      <th>pelvic_tilt</th>\n",
       "      <td>310.0</td>\n",
       "      <td>17.542822</td>\n",
       "      <td>10.008330</td>\n",
       "      <td>-6.554948</td>\n",
       "      <td>10.667069</td>\n",
       "      <td>16.357689</td>\n",
       "      <td>22.120395</td>\n",
       "      <td>49.431864</td>\n",
       "    </tr>\n",
       "    <tr>\n",
       "      <th>lumbar_lordosis_angle</th>\n",
       "      <td>310.0</td>\n",
       "      <td>51.930930</td>\n",
       "      <td>18.554064</td>\n",
       "      <td>14.000000</td>\n",
       "      <td>37.000000</td>\n",
       "      <td>49.562398</td>\n",
       "      <td>63.000000</td>\n",
       "      <td>125.742385</td>\n",
       "    </tr>\n",
       "    <tr>\n",
       "      <th>sacral_slope</th>\n",
       "      <td>310.0</td>\n",
       "      <td>42.953831</td>\n",
       "      <td>13.423102</td>\n",
       "      <td>13.366931</td>\n",
       "      <td>33.347122</td>\n",
       "      <td>42.404912</td>\n",
       "      <td>52.695888</td>\n",
       "      <td>121.429566</td>\n",
       "    </tr>\n",
       "    <tr>\n",
       "      <th>pelvic_radius</th>\n",
       "      <td>310.0</td>\n",
       "      <td>117.920655</td>\n",
       "      <td>13.317377</td>\n",
       "      <td>70.082575</td>\n",
       "      <td>110.709196</td>\n",
       "      <td>118.268178</td>\n",
       "      <td>125.467674</td>\n",
       "      <td>163.071041</td>\n",
       "    </tr>\n",
       "    <tr>\n",
       "      <th>degree_spondylolisthesis</th>\n",
       "      <td>310.0</td>\n",
       "      <td>26.296694</td>\n",
       "      <td>37.559027</td>\n",
       "      <td>-11.058179</td>\n",
       "      <td>1.603727</td>\n",
       "      <td>11.767934</td>\n",
       "      <td>41.287352</td>\n",
       "      <td>418.543082</td>\n",
       "    </tr>\n",
       "  </tbody>\n",
       "</table>\n",
       "</div>"
      ],
      "text/plain": [
       "                          count        mean        std        min         25%  \\\n",
       "pelvic_incidence          310.0   60.496653  17.236520  26.147921   46.430294   \n",
       "pelvic_tilt               310.0   17.542822  10.008330  -6.554948   10.667069   \n",
       "lumbar_lordosis_angle     310.0   51.930930  18.554064  14.000000   37.000000   \n",
       "sacral_slope              310.0   42.953831  13.423102  13.366931   33.347122   \n",
       "pelvic_radius             310.0  117.920655  13.317377  70.082575  110.709196   \n",
       "degree_spondylolisthesis  310.0   26.296694  37.559027 -11.058179    1.603727   \n",
       "\n",
       "                                 50%         75%         max  \n",
       "pelvic_incidence           58.691038   72.877696  129.834041  \n",
       "pelvic_tilt                16.357689   22.120395   49.431864  \n",
       "lumbar_lordosis_angle      49.562398   63.000000  125.742385  \n",
       "sacral_slope               42.404912   52.695888  121.429566  \n",
       "pelvic_radius             118.268178  125.467674  163.071041  \n",
       "degree_spondylolisthesis   11.767934   41.287352  418.543082  "
      ]
     },
     "execution_count": 39,
     "metadata": {},
     "output_type": "execute_result"
    }
   ],
   "source": [
    "# Performing some basic EDA to check the sample statistics\n",
    "\n",
    "df_3C.describe().T\n",
    "\n",
    "# It's observed that all columns except pelvic_radius have a right skew as indicated by the large difference between Q3 and max\n",
    "# The degree_spondylolisthesis column especially has a very long tail making it look very suspicious"
   ]
  },
  {
   "cell_type": "code",
   "execution_count": 40,
   "metadata": {},
   "outputs": [],
   "source": [
    "# Using the zscore to identify potential outliers\n",
    "# We find the z-score of each column and check the values with z>3 and explore them further\n",
    "\n",
    "z1a = np.abs(stats.zscore(df_3C['pelvic_incidence']))\n",
    "z2a = np.abs(stats.zscore(df_3C['pelvic_tilt']))\n",
    "z3a = np.abs(stats.zscore(df_3C['lumbar_lordosis_angle']))\n",
    "z4a = np.abs(stats.zscore(df_3C['sacral_slope']))\n",
    "z5a = np.abs(stats.zscore(df_3C['pelvic_radius']))\n",
    "z6a = np.abs(stats.zscore(df_3C['degree_spondylolisthesis']))"
   ]
  },
  {
   "cell_type": "code",
   "execution_count": 41,
   "metadata": {},
   "outputs": [
    {
     "name": "stdout",
     "output_type": "stream",
     "text": [
      "(array([115, 162, 163], dtype=int64),) \n",
      " (array([122, 141, 179], dtype=int64),) \n",
      " (array([197], dtype=int64),) \n",
      " (array([115], dtype=int64),) \n",
      " (array([ 85, 167, 180], dtype=int64),) \n",
      " (array([ 75,  95, 115], dtype=int64),)\n"
     ]
    }
   ],
   "source": [
    "print(np.where(z1a > 3),'\\n',np.where(z2a > 3),'\\n',np.where(z3a > 3),'\\n',np.where(z4a > 3),'\\n',np.where(z5a > 3),'\\n',np.where(z6a > 3))"
   ]
  },
  {
   "cell_type": "code",
   "execution_count": 42,
   "metadata": {},
   "outputs": [
    {
     "data": {
      "text/html": [
       "<div>\n",
       "<style scoped>\n",
       "    .dataframe tbody tr th:only-of-type {\n",
       "        vertical-align: middle;\n",
       "    }\n",
       "\n",
       "    .dataframe tbody tr th {\n",
       "        vertical-align: top;\n",
       "    }\n",
       "\n",
       "    .dataframe thead th {\n",
       "        text-align: right;\n",
       "    }\n",
       "</style>\n",
       "<table border=\"1\" class=\"dataframe\">\n",
       "  <thead>\n",
       "    <tr style=\"text-align: right;\">\n",
       "      <th></th>\n",
       "      <th>pelvic_incidence</th>\n",
       "      <th>pelvic_tilt</th>\n",
       "      <th>lumbar_lordosis_angle</th>\n",
       "      <th>sacral_slope</th>\n",
       "      <th>pelvic_radius</th>\n",
       "      <th>degree_spondylolisthesis</th>\n",
       "      <th>class</th>\n",
       "    </tr>\n",
       "  </thead>\n",
       "  <tbody>\n",
       "    <tr>\n",
       "      <th>115</th>\n",
       "      <td>129.834041</td>\n",
       "      <td>8.404475</td>\n",
       "      <td>48.384057</td>\n",
       "      <td>121.429566</td>\n",
       "      <td>107.690466</td>\n",
       "      <td>418.543082</td>\n",
       "      <td>Spondylolisthesis</td>\n",
       "    </tr>\n",
       "    <tr>\n",
       "      <th>162</th>\n",
       "      <td>118.144655</td>\n",
       "      <td>38.449501</td>\n",
       "      <td>50.838520</td>\n",
       "      <td>79.695154</td>\n",
       "      <td>81.024541</td>\n",
       "      <td>74.043767</td>\n",
       "      <td>Spondylolisthesis</td>\n",
       "    </tr>\n",
       "    <tr>\n",
       "      <th>163</th>\n",
       "      <td>115.923261</td>\n",
       "      <td>37.515436</td>\n",
       "      <td>76.800000</td>\n",
       "      <td>78.407825</td>\n",
       "      <td>104.698603</td>\n",
       "      <td>81.198927</td>\n",
       "      <td>Spondylolisthesis</td>\n",
       "    </tr>\n",
       "    <tr>\n",
       "      <th>122</th>\n",
       "      <td>80.074914</td>\n",
       "      <td>48.069531</td>\n",
       "      <td>52.403439</td>\n",
       "      <td>32.005383</td>\n",
       "      <td>110.709912</td>\n",
       "      <td>67.727316</td>\n",
       "      <td>Spondylolisthesis</td>\n",
       "    </tr>\n",
       "    <tr>\n",
       "      <th>141</th>\n",
       "      <td>89.504947</td>\n",
       "      <td>48.903653</td>\n",
       "      <td>72.003423</td>\n",
       "      <td>40.601295</td>\n",
       "      <td>134.634291</td>\n",
       "      <td>118.353370</td>\n",
       "      <td>Spondylolisthesis</td>\n",
       "    </tr>\n",
       "    <tr>\n",
       "      <th>179</th>\n",
       "      <td>68.721910</td>\n",
       "      <td>49.431864</td>\n",
       "      <td>68.056012</td>\n",
       "      <td>19.290046</td>\n",
       "      <td>125.018517</td>\n",
       "      <td>54.691289</td>\n",
       "      <td>Spondylolisthesis</td>\n",
       "    </tr>\n",
       "    <tr>\n",
       "      <th>197</th>\n",
       "      <td>58.828379</td>\n",
       "      <td>37.577873</td>\n",
       "      <td>125.742385</td>\n",
       "      <td>21.250506</td>\n",
       "      <td>135.629418</td>\n",
       "      <td>117.314683</td>\n",
       "      <td>Spondylolisthesis</td>\n",
       "    </tr>\n",
       "    <tr>\n",
       "      <th>85</th>\n",
       "      <td>45.443750</td>\n",
       "      <td>9.906072</td>\n",
       "      <td>45.000000</td>\n",
       "      <td>35.537678</td>\n",
       "      <td>163.071041</td>\n",
       "      <td>20.315315</td>\n",
       "      <td>Spondylolisthesis</td>\n",
       "    </tr>\n",
       "    <tr>\n",
       "      <th>167</th>\n",
       "      <td>72.343594</td>\n",
       "      <td>16.420790</td>\n",
       "      <td>59.869012</td>\n",
       "      <td>55.922805</td>\n",
       "      <td>70.082575</td>\n",
       "      <td>12.072644</td>\n",
       "      <td>Spondylolisthesis</td>\n",
       "    </tr>\n",
       "    <tr>\n",
       "      <th>180</th>\n",
       "      <td>37.903910</td>\n",
       "      <td>4.479099</td>\n",
       "      <td>24.710274</td>\n",
       "      <td>33.424811</td>\n",
       "      <td>157.848799</td>\n",
       "      <td>33.607027</td>\n",
       "      <td>Spondylolisthesis</td>\n",
       "    </tr>\n",
       "    <tr>\n",
       "      <th>75</th>\n",
       "      <td>70.221452</td>\n",
       "      <td>39.822724</td>\n",
       "      <td>68.118403</td>\n",
       "      <td>30.398728</td>\n",
       "      <td>148.525562</td>\n",
       "      <td>145.378143</td>\n",
       "      <td>Spondylolisthesis</td>\n",
       "    </tr>\n",
       "    <tr>\n",
       "      <th>95</th>\n",
       "      <td>57.522356</td>\n",
       "      <td>33.647075</td>\n",
       "      <td>50.909858</td>\n",
       "      <td>23.875281</td>\n",
       "      <td>140.981712</td>\n",
       "      <td>148.753711</td>\n",
       "      <td>Spondylolisthesis</td>\n",
       "    </tr>\n",
       "  </tbody>\n",
       "</table>\n",
       "</div>"
      ],
      "text/plain": [
       "     pelvic_incidence  pelvic_tilt  lumbar_lordosis_angle  sacral_slope  \\\n",
       "115        129.834041     8.404475              48.384057    121.429566   \n",
       "162        118.144655    38.449501              50.838520     79.695154   \n",
       "163        115.923261    37.515436              76.800000     78.407825   \n",
       "122         80.074914    48.069531              52.403439     32.005383   \n",
       "141         89.504947    48.903653              72.003423     40.601295   \n",
       "179         68.721910    49.431864              68.056012     19.290046   \n",
       "197         58.828379    37.577873             125.742385     21.250506   \n",
       "85          45.443750     9.906072              45.000000     35.537678   \n",
       "167         72.343594    16.420790              59.869012     55.922805   \n",
       "180         37.903910     4.479099              24.710274     33.424811   \n",
       "75          70.221452    39.822724              68.118403     30.398728   \n",
       "95          57.522356    33.647075              50.909858     23.875281   \n",
       "\n",
       "     pelvic_radius  degree_spondylolisthesis              class  \n",
       "115     107.690466                418.543082  Spondylolisthesis  \n",
       "162      81.024541                 74.043767  Spondylolisthesis  \n",
       "163     104.698603                 81.198927  Spondylolisthesis  \n",
       "122     110.709912                 67.727316  Spondylolisthesis  \n",
       "141     134.634291                118.353370  Spondylolisthesis  \n",
       "179     125.018517                 54.691289  Spondylolisthesis  \n",
       "197     135.629418                117.314683  Spondylolisthesis  \n",
       "85      163.071041                 20.315315  Spondylolisthesis  \n",
       "167      70.082575                 12.072644  Spondylolisthesis  \n",
       "180     157.848799                 33.607027  Spondylolisthesis  \n",
       "75      148.525562                145.378143  Spondylolisthesis  \n",
       "95      140.981712                148.753711  Spondylolisthesis  "
      ]
     },
     "execution_count": 42,
     "metadata": {},
     "output_type": "execute_result"
    }
   ],
   "source": [
    "# We can analyse the potential outliers and decide the ones that need to be removed\n",
    "\n",
    "outlier_rows_check=df_3C.iloc[[115,162,163,122,141,179,197,85,167,180,75,95],:]\n",
    "outlier_rows=df_3C.iloc[[115],:]\n",
    "outliers_index=outlier_rows.index\n",
    "outlier_rows_check\n",
    "\n",
    "# The observation at index 115 seems to be a consistent outlier across 3 features - pelvic_incidence, sacral_slope, and degree_spondylolisthesis\n",
    "# All other observations are not consistent outliers across multiple features"
   ]
  },
  {
   "cell_type": "code",
   "execution_count": 43,
   "metadata": {},
   "outputs": [
    {
     "name": "stderr",
     "output_type": "stream",
     "text": [
      "C:\\Users\\rajdb\\Anaconda3\\lib\\site-packages\\pandas\\core\\indexes\\base.py:3969: FutureWarning: Using a non-tuple sequence for multidimensional indexing is deprecated; use `arr[tuple(seq)]` instead of `arr[seq]`. In the future this will be interpreted as an array index, `arr[np.array(seq)]`, which will result either in an error or a different result.\n",
      "  result = getitem(key)\n"
     ]
    },
    {
     "data": {
      "text/plain": [
       "(309, 7)"
      ]
     },
     "execution_count": 43,
     "metadata": {},
     "output_type": "execute_result"
    }
   ],
   "source": [
    "# Dropping the observation at index 115 as an outlier\n",
    "\n",
    "new_df_3C=df_3C.drop(df_3C.index[[outliers_index]])\n",
    "new_df_3C.shape"
   ]
  },
  {
   "cell_type": "code",
   "execution_count": 44,
   "metadata": {},
   "outputs": [
    {
     "data": {
      "text/plain": [
       "<matplotlib.axes._subplots.AxesSubplot at 0x176dcfc25c0>"
      ]
     },
     "execution_count": 44,
     "metadata": {},
     "output_type": "execute_result"
    },
    {
     "data": {
      "image/png": "[encoded data removed]",
      "text/plain": [
       "<Figure size 720x720 with 6 Axes>"
      ]
     },
     "metadata": {
      "needs_background": "light"
     },
     "output_type": "display_data"
    }
   ],
   "source": [
    "# Using boxplot to plot each feature vs. class to see if there's a difference in the distribution between classes\n",
    "\n",
    "f,ax=plt.subplots(3,2,figsize=(10,10))\n",
    "f.subplots_adjust(wspace=0.5,hspace=0.5)\n",
    "\n",
    "sns.boxplot(new_df_3C['class'],new_df_3C['pelvic_radius'],ax=ax[0][0])\n",
    "sns.boxplot(new_df_3C['class'],new_df_3C['sacral_slope'],ax=ax[0][1])\n",
    "sns.boxplot(new_df_3C['class'],new_df_3C['pelvic_incidence'],ax=ax[1][0])\n",
    "sns.boxplot(new_df_3C['class'],new_df_3C['pelvic_tilt'],ax=ax[1][1])\n",
    "sns.boxplot(new_df_3C['class'],new_df_3C['degree_spondylolisthesis'],ax=ax[2][0])\n",
    "sns.boxplot(new_df_3C['class'],new_df_3C['lumbar_lordosis_angle'],ax=ax[2][1])\n",
    "\n",
    "# sacral_slope, degree_spondylolisthesis, and lumbar_lordosis_angle features seem to have some level of difference across the 3 classes\n",
    "# This indicates that these could be important features is determining the class"
   ]
  },
  {
   "cell_type": "code",
   "execution_count": 45,
   "metadata": {},
   "outputs": [
    {
     "data": {
      "text/plain": [
       "<matplotlib.axes._subplots.AxesSubplot at 0x176df5eaba8>"
      ]
     },
     "execution_count": 45,
     "metadata": {},
     "output_type": "execute_result"
    },
    {
     "data": {
      "image/png": "[encoded data removed]",
      "text/plain": [
       "<Figure size 432x288 with 2 Axes>"
      ]
     },
     "metadata": {
      "needs_background": "light"
     },
     "output_type": "display_data"
    }
   ],
   "source": [
    "# To check if there are redundant features, we can use the correlation matrix\n",
    "\n",
    "temp=new_df_3C.drop('class',axis=1)\n",
    "corr=new_df_3C.corr()\n",
    "sns.heatmap(corr,annot=True)\n",
    "\n",
    "# We see a correlation of +0,8 between pelvic_incidence and sacral_slope. \n",
    "# We also see a correlation of +0.74 between pelvic_incidence and lumbar_lordosis_angle.\n",
    "# Hence, we would be dropping pelvic_incidence as it is represented well by lumbar_lordosis_angle and sacral_slope (Note that this is done while creating the feature set new_df_features)"
   ]
  },
  {
   "cell_type": "code",
   "execution_count": 46,
   "metadata": {},
   "outputs": [],
   "source": [
    "# Removing 'pelvic_incidence' since it is highly correlated with other features as shown in the correlation matrix above\n",
    "# 'pelvic_incidence' is represented well by lumbar_lordosis_angle and sacral_slope\n",
    "\n",
    "new_df_3C_2=new_df_3C.drop(['pelvic_incidence'],axis=1)"
   ]
  },
  {
   "cell_type": "markdown",
   "metadata": {},
   "source": [
    "# Encode the Class variable to integer."
   ]
  },
  {
   "cell_type": "code",
   "execution_count": 47,
   "metadata": {},
   "outputs": [],
   "source": [
    "labelencoder = LabelEncoder()\n",
    "new_df_3C_2['class'] = labelencoder.fit_transform(new_df_3C_2['class'])"
   ]
  },
  {
   "cell_type": "code",
   "execution_count": 48,
   "metadata": {},
   "outputs": [
    {
     "data": {
      "text/plain": [
       "array([0, 2, 1], dtype=int64)"
      ]
     },
     "execution_count": 48,
     "metadata": {},
     "output_type": "execute_result"
    }
   ],
   "source": [
    "new_df_3C_2['class'].unique()"
   ]
  },
  {
   "cell_type": "markdown",
   "metadata": {},
   "source": [
    "# Create the X(Feature-set) and Y(Target-set) sets for your Data."
   ]
  },
  {
   "cell_type": "code",
   "execution_count": 49,
   "metadata": {},
   "outputs": [
    {
     "data": {
      "text/html": [
       "<div>\n",
       "<style scoped>\n",
       "    .dataframe tbody tr th:only-of-type {\n",
       "        vertical-align: middle;\n",
       "    }\n",
       "\n",
       "    .dataframe tbody tr th {\n",
       "        vertical-align: top;\n",
       "    }\n",
       "\n",
       "    .dataframe thead th {\n",
       "        text-align: right;\n",
       "    }\n",
       "</style>\n",
       "<table border=\"1\" class=\"dataframe\">\n",
       "  <thead>\n",
       "    <tr style=\"text-align: right;\">\n",
       "      <th></th>\n",
       "      <th>pelvic_tilt</th>\n",
       "      <th>lumbar_lordosis_angle</th>\n",
       "      <th>sacral_slope</th>\n",
       "      <th>pelvic_radius</th>\n",
       "      <th>degree_spondylolisthesis</th>\n",
       "    </tr>\n",
       "  </thead>\n",
       "  <tbody>\n",
       "    <tr>\n",
       "      <th>0</th>\n",
       "      <td>22.552586</td>\n",
       "      <td>39.609117</td>\n",
       "      <td>40.475232</td>\n",
       "      <td>98.672917</td>\n",
       "      <td>-0.254400</td>\n",
       "    </tr>\n",
       "    <tr>\n",
       "      <th>1</th>\n",
       "      <td>10.060991</td>\n",
       "      <td>25.015378</td>\n",
       "      <td>28.995960</td>\n",
       "      <td>114.405425</td>\n",
       "      <td>4.564259</td>\n",
       "    </tr>\n",
       "    <tr>\n",
       "      <th>2</th>\n",
       "      <td>22.218482</td>\n",
       "      <td>50.092194</td>\n",
       "      <td>46.613539</td>\n",
       "      <td>105.985135</td>\n",
       "      <td>-3.530317</td>\n",
       "    </tr>\n",
       "    <tr>\n",
       "      <th>3</th>\n",
       "      <td>24.652878</td>\n",
       "      <td>44.311238</td>\n",
       "      <td>44.644130</td>\n",
       "      <td>101.868495</td>\n",
       "      <td>11.211523</td>\n",
       "    </tr>\n",
       "    <tr>\n",
       "      <th>4</th>\n",
       "      <td>9.652075</td>\n",
       "      <td>28.317406</td>\n",
       "      <td>40.060784</td>\n",
       "      <td>108.168725</td>\n",
       "      <td>7.918501</td>\n",
       "    </tr>\n",
       "  </tbody>\n",
       "</table>\n",
       "</div>"
      ],
      "text/plain": [
       "   pelvic_tilt  lumbar_lordosis_angle  sacral_slope  pelvic_radius  \\\n",
       "0    22.552586              39.609117     40.475232      98.672917   \n",
       "1    10.060991              25.015378     28.995960     114.405425   \n",
       "2    22.218482              50.092194     46.613539     105.985135   \n",
       "3    24.652878              44.311238     44.644130     101.868495   \n",
       "4     9.652075              28.317406     40.060784     108.168725   \n",
       "\n",
       "   degree_spondylolisthesis  \n",
       "0                 -0.254400  \n",
       "1                  4.564259  \n",
       "2                 -3.530317  \n",
       "3                 11.211523  \n",
       "4                  7.918501  "
      ]
     },
     "execution_count": 49,
     "metadata": {},
     "output_type": "execute_result"
    }
   ],
   "source": [
    "new_df_3C_features=new_df_3C_2.drop(['class'],axis=1)\n",
    "new_df_3C_features.head()"
   ]
  },
  {
   "cell_type": "code",
   "execution_count": 50,
   "metadata": {},
   "outputs": [],
   "source": [
    "X=new_df_3C_features\n",
    "y=new_df_3C_2[['class']]"
   ]
  },
  {
   "cell_type": "markdown",
   "metadata": {},
   "source": [
    "# Normalize your Data (X) to get values between 0 to 1."
   ]
  },
  {
   "cell_type": "code",
   "execution_count": 51,
   "metadata": {},
   "outputs": [
    {
     "data": {
      "text/html": [
       "<div>\n",
       "<style scoped>\n",
       "    .dataframe tbody tr th:only-of-type {\n",
       "        vertical-align: middle;\n",
       "    }\n",
       "\n",
       "    .dataframe tbody tr th {\n",
       "        vertical-align: top;\n",
       "    }\n",
       "\n",
       "    .dataframe thead th {\n",
       "        text-align: right;\n",
       "    }\n",
       "</style>\n",
       "<table border=\"1\" class=\"dataframe\">\n",
       "  <thead>\n",
       "    <tr style=\"text-align: right;\">\n",
       "      <th></th>\n",
       "      <th>pelvic_tilt</th>\n",
       "      <th>lumbar_lordosis_angle</th>\n",
       "      <th>sacral_slope</th>\n",
       "      <th>pelvic_radius</th>\n",
       "      <th>degree_spondylolisthesis</th>\n",
       "    </tr>\n",
       "  </thead>\n",
       "  <tbody>\n",
       "    <tr>\n",
       "      <th>0</th>\n",
       "      <td>0.519900</td>\n",
       "      <td>0.229180</td>\n",
       "      <td>0.408699</td>\n",
       "      <td>0.307461</td>\n",
       "      <td>0.067603</td>\n",
       "    </tr>\n",
       "    <tr>\n",
       "      <th>1</th>\n",
       "      <td>0.296783</td>\n",
       "      <td>0.098578</td>\n",
       "      <td>0.235632</td>\n",
       "      <td>0.476649</td>\n",
       "      <td>0.097755</td>\n",
       "    </tr>\n",
       "    <tr>\n",
       "      <th>2</th>\n",
       "      <td>0.513932</td>\n",
       "      <td>0.322995</td>\n",
       "      <td>0.501244</td>\n",
       "      <td>0.386097</td>\n",
       "      <td>0.047105</td>\n",
       "    </tr>\n",
       "    <tr>\n",
       "      <th>3</th>\n",
       "      <td>0.557414</td>\n",
       "      <td>0.271260</td>\n",
       "      <td>0.471552</td>\n",
       "      <td>0.341826</td>\n",
       "      <td>0.139349</td>\n",
       "    </tr>\n",
       "    <tr>\n",
       "      <th>4</th>\n",
       "      <td>0.289479</td>\n",
       "      <td>0.128129</td>\n",
       "      <td>0.402451</td>\n",
       "      <td>0.409579</td>\n",
       "      <td>0.118744</td>\n",
       "    </tr>\n",
       "  </tbody>\n",
       "</table>\n",
       "</div>"
      ],
      "text/plain": [
       "   pelvic_tilt  lumbar_lordosis_angle  sacral_slope  pelvic_radius  \\\n",
       "0     0.519900               0.229180      0.408699       0.307461   \n",
       "1     0.296783               0.098578      0.235632       0.476649   \n",
       "2     0.513932               0.322995      0.501244       0.386097   \n",
       "3     0.557414               0.271260      0.471552       0.341826   \n",
       "4     0.289479               0.128129      0.402451       0.409579   \n",
       "\n",
       "   degree_spondylolisthesis  \n",
       "0                  0.067603  \n",
       "1                  0.097755  \n",
       "2                  0.047105  \n",
       "3                  0.139349  \n",
       "4                  0.118744  "
      ]
     },
     "execution_count": 51,
     "metadata": {},
     "output_type": "execute_result"
    }
   ],
   "source": [
    "scaler=MinMaxScaler()\n",
    "X=scaler.fit_transform(X)\n",
    "X = pd.DataFrame(X, columns=new_df_3C_features.columns)\n",
    "X.head()"
   ]
  },
  {
   "cell_type": "markdown",
   "metadata": {},
   "source": [
    "# Split the dat as train and test with a ratio of 70:30."
   ]
  },
  {
   "cell_type": "code",
   "execution_count": 52,
   "metadata": {},
   "outputs": [],
   "source": [
    "X_train,X_test,y_train,y_test=train_test_split(X,y,test_size=0.30,random_state=3)"
   ]
  },
  {
   "cell_type": "markdown",
   "metadata": {},
   "source": [
    "# Build the KNN model using Train Dataset and predict the class on test dataset."
   ]
  },
  {
   "cell_type": "code",
   "execution_count": 53,
   "metadata": {},
   "outputs": [
    {
     "name": "stderr",
     "output_type": "stream",
     "text": [
      "C:\\Users\\rajdb\\Anaconda3\\lib\\site-packages\\ipykernel_launcher.py:4: DataConversionWarning: A column-vector y was passed when a 1d array was expected. Please change the shape of y to (n_samples, ), for example using ravel().\n",
      "  after removing the cwd from sys.path.\n"
     ]
    },
    {
     "data": {
      "text/plain": [
       "KNeighborsClassifier(algorithm='auto', leaf_size=30, metric='minkowski',\n",
       "                     metric_params=None, n_jobs=None, n_neighbors=5, p=2,\n",
       "                     weights='uniform')"
      ]
     },
     "execution_count": 53,
     "metadata": {},
     "output_type": "execute_result"
    }
   ],
   "source": [
    "# Running the KNN model again with k=5\n",
    "\n",
    "NHH=KNeighborsClassifier(n_neighbors=5)\n",
    "NHH.fit(X_train,y_train)"
   ]
  },
  {
   "cell_type": "markdown",
   "metadata": {},
   "source": [
    "# Calculate the performance score of of your classification on test dataset."
   ]
  },
  {
   "cell_type": "code",
   "execution_count": 54,
   "metadata": {},
   "outputs": [
    {
     "data": {
      "text/plain": [
       "0.8064516129032258"
      ]
     },
     "execution_count": 54,
     "metadata": {},
     "output_type": "execute_result"
    }
   ],
   "source": [
    "predicted_labels=NHH.predict(X_test)\n",
    "NHH.score(X_test,y_test)"
   ]
  },
  {
   "cell_type": "markdown",
   "metadata": {},
   "source": [
    "# What is the best K value for your classifcation?\n",
    "#Find at which k value you get the best score."
   ]
  },
  {
   "cell_type": "code",
   "execution_count": 55,
   "metadata": {},
   "outputs": [],
   "source": [
    "# Creating a list of k-values from 1 to sqrt(n) as indicated by the thumb rule for appropriate k-value\n",
    "\n",
    "k_values=[var for var in range(1,int(round(np.sqrt(len(new_df_3C_2))))) if var % 2 != 0]"
   ]
  },
  {
   "cell_type": "code",
   "execution_count": 56,
   "metadata": {},
   "outputs": [
    {
     "data": {
      "text/plain": [
       "[1, 3, 5, 7, 9, 11, 13, 15, 17]"
      ]
     },
     "execution_count": 56,
     "metadata": {},
     "output_type": "execute_result"
    }
   ],
   "source": [
    "k_values"
   ]
  },
  {
   "cell_type": "code",
   "execution_count": 57,
   "metadata": {},
   "outputs": [
    {
     "name": "stderr",
     "output_type": "stream",
     "text": [
      "C:\\Users\\rajdb\\Anaconda3\\lib\\site-packages\\ipykernel_launcher.py:6: DataConversionWarning: A column-vector y was passed when a 1d array was expected. Please change the shape of y to (n_samples, ), for example using ravel().\n",
      "  \n",
      "C:\\Users\\rajdb\\Anaconda3\\lib\\site-packages\\ipykernel_launcher.py:6: DataConversionWarning: A column-vector y was passed when a 1d array was expected. Please change the shape of y to (n_samples, ), for example using ravel().\n",
      "  \n",
      "C:\\Users\\rajdb\\Anaconda3\\lib\\site-packages\\ipykernel_launcher.py:6: DataConversionWarning: A column-vector y was passed when a 1d array was expected. Please change the shape of y to (n_samples, ), for example using ravel().\n",
      "  \n",
      "C:\\Users\\rajdb\\Anaconda3\\lib\\site-packages\\ipykernel_launcher.py:6: DataConversionWarning: A column-vector y was passed when a 1d array was expected. Please change the shape of y to (n_samples, ), for example using ravel().\n",
      "  \n",
      "C:\\Users\\rajdb\\Anaconda3\\lib\\site-packages\\ipykernel_launcher.py:6: DataConversionWarning: A column-vector y was passed when a 1d array was expected. Please change the shape of y to (n_samples, ), for example using ravel().\n",
      "  \n",
      "C:\\Users\\rajdb\\Anaconda3\\lib\\site-packages\\ipykernel_launcher.py:6: DataConversionWarning: A column-vector y was passed when a 1d array was expected. Please change the shape of y to (n_samples, ), for example using ravel().\n",
      "  \n",
      "C:\\Users\\rajdb\\Anaconda3\\lib\\site-packages\\ipykernel_launcher.py:6: DataConversionWarning: A column-vector y was passed when a 1d array was expected. Please change the shape of y to (n_samples, ), for example using ravel().\n",
      "  \n"
     ]
    },
    {
     "name": "stdout",
     "output_type": "stream",
     "text": [
      "Score for k=1 0.7741935483870968\n",
      "Score for k=3 0.8064516129032258\n",
      "Score for k=5 0.8064516129032258\n",
      "Score for k=7 0.8279569892473119\n",
      "Score for k=9 0.8602150537634409\n",
      "Score for k=11 0.8709677419354839\n",
      "Score for k=13 0.8387096774193549\n",
      "Score for k=15 0.8602150537634409\n",
      "Score for k=17 0.8602150537634409\n"
     ]
    },
    {
     "name": "stderr",
     "output_type": "stream",
     "text": [
      "C:\\Users\\rajdb\\Anaconda3\\lib\\site-packages\\ipykernel_launcher.py:6: DataConversionWarning: A column-vector y was passed when a 1d array was expected. Please change the shape of y to (n_samples, ), for example using ravel().\n",
      "  \n",
      "C:\\Users\\rajdb\\Anaconda3\\lib\\site-packages\\ipykernel_launcher.py:6: DataConversionWarning: A column-vector y was passed when a 1d array was expected. Please change the shape of y to (n_samples, ), for example using ravel().\n",
      "  \n"
     ]
    }
   ],
   "source": [
    "# Running the KNN model for all odd values from 1 to 17\n",
    "\n",
    "appended_data=[]\n",
    "def optimal_k(i):\n",
    "    model_optimal = KNeighborsClassifier(n_neighbors=i)\n",
    "    model_optimal.fit(X_train,y_train)\n",
    "    predicted_labels=model_optimal.predict(X_test)\n",
    "    print(\"Score for k={} {}\".format(i,model_optimal.score(X_test,y_test)))\n",
    "    return model_optimal.score(X_test,y_test)\n",
    "for i in k_values:\n",
    "    appended_data.append(optimal_k(i))\n",
    "\n",
    "# We see that 11 is the optimal k-value"
   ]
  },
  {
   "cell_type": "code",
   "execution_count": 58,
   "metadata": {},
   "outputs": [
    {
     "data": {
      "text/plain": [
       "<matplotlib.axes._subplots.AxesSubplot at 0x176df402550>"
      ]
     },
     "execution_count": 58,
     "metadata": {},
     "output_type": "execute_result"
    },
    {
     "data": {
      "image/png": "[encoded data removed]",
      "text/plain": [
       "<Figure size 432x288 with 1 Axes>"
      ]
     },
     "metadata": {
      "needs_background": "light"
     },
     "output_type": "display_data"
    }
   ],
   "source": [
    "sns.lineplot(k_values,y=appended_data)"
   ]
  },
  {
   "cell_type": "code",
   "execution_count": 59,
   "metadata": {},
   "outputs": [
    {
     "name": "stderr",
     "output_type": "stream",
     "text": [
      "C:\\Users\\rajdb\\Anaconda3\\lib\\site-packages\\ipykernel_launcher.py:4: DataConversionWarning: A column-vector y was passed when a 1d array was expected. Please change the shape of y to (n_samples, ), for example using ravel().\n",
      "  after removing the cwd from sys.path.\n"
     ]
    },
    {
     "data": {
      "text/plain": [
       "0.8709677419354839"
      ]
     },
     "execution_count": 59,
     "metadata": {},
     "output_type": "execute_result"
    }
   ],
   "source": [
    "# Running the KNN model again with k=11\n",
    "\n",
    "NHH11=KNeighborsClassifier(n_neighbors=11)\n",
    "NHH11.fit(X_train,y_train)\n",
    "predicted_labels=NHH11.predict(X_test)\n",
    "NHH11.score(X_test,y_test)"
   ]
  },
  {
   "cell_type": "code",
   "execution_count": 60,
   "metadata": {},
   "outputs": [
    {
     "data": {
      "text/plain": [
       "array([[13,  5,  1],\n",
       "       [ 5, 22,  1],\n",
       "       [ 0,  0, 46]], dtype=int64)"
      ]
     },
     "execution_count": 60,
     "metadata": {},
     "output_type": "execute_result"
    }
   ],
   "source": [
    "confusion_matrix(predicted_labels,y_test)"
   ]
  }
 ],
 "metadata": {
  "colab": {
   "name": "Project - kNN- Patient type Classification.ipynb",
   "provenance": [],
   "version": "0.3.2"
  },
  "kernelspec": {
   "display_name": "Python 3",
   "language": "python",
   "name": "python3"
  },
  "language_info": {
   "codemirror_mode": {
    "name": "ipython",
    "version": 3
   },
   "file_extension": ".py",
   "mimetype": "text/x-python",
   "name": "python",
   "nbconvert_exporter": "python",
   "pygments_lexer": "ipython3",
   "version": "3.7.3"
  }
 },
 "nbformat": 4,
 "nbformat_minor": 1
}
