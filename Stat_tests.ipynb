{
 "cells": [
  {
   "cell_type": "code",
   "execution_count": 40,
   "metadata": {},
   "outputs": [],
   "source": [
    "import pandas as pd\n",
    "import numpy as np\n",
    "import seaborn as sns\n",
    "import matplotlib.pyplot as plt\n",
    "from scipy.stats import ttest_1samp,ttest_ind,levene,shapiro,chi2_contingency\n",
    "%matplotlib inline"
   ]
  },
  {
   "cell_type": "code",
   "execution_count": 41,
   "metadata": {},
   "outputs": [
    {
     "data": {
      "text/html": [
       "<div>\n",
       "<style scoped>\n",
       "    .dataframe tbody tr th:only-of-type {\n",
       "        vertical-align: middle;\n",
       "    }\n",
       "\n",
       "    .dataframe tbody tr th {\n",
       "        vertical-align: top;\n",
       "    }\n",
       "\n",
       "    .dataframe thead th {\n",
       "        text-align: right;\n",
       "    }\n",
       "</style>\n",
       "<table border=\"1\" class=\"dataframe\">\n",
       "  <thead>\n",
       "    <tr style=\"text-align: right;\">\n",
       "      <th></th>\n",
       "      <th>Music</th>\n",
       "      <th>Slow songs or fast songs</th>\n",
       "      <th>Dance</th>\n",
       "      <th>Folk</th>\n",
       "      <th>Country</th>\n",
       "      <th>Classical music</th>\n",
       "      <th>Musical</th>\n",
       "      <th>Pop</th>\n",
       "      <th>Rock</th>\n",
       "      <th>Metal or Hardrock</th>\n",
       "      <th>...</th>\n",
       "      <th>Age</th>\n",
       "      <th>Height</th>\n",
       "      <th>Weight</th>\n",
       "      <th>Number of siblings</th>\n",
       "      <th>Gender</th>\n",
       "      <th>Left - right handed</th>\n",
       "      <th>Education</th>\n",
       "      <th>Only child</th>\n",
       "      <th>Village - town</th>\n",
       "      <th>House - block of flats</th>\n",
       "    </tr>\n",
       "  </thead>\n",
       "  <tbody>\n",
       "    <tr>\n",
       "      <th>0</th>\n",
       "      <td>5.0</td>\n",
       "      <td>3.0</td>\n",
       "      <td>2.0</td>\n",
       "      <td>1.0</td>\n",
       "      <td>2.0</td>\n",
       "      <td>2.0</td>\n",
       "      <td>1.0</td>\n",
       "      <td>5.0</td>\n",
       "      <td>5.0</td>\n",
       "      <td>1.0</td>\n",
       "      <td>...</td>\n",
       "      <td>20.0</td>\n",
       "      <td>163.0</td>\n",
       "      <td>48.0</td>\n",
       "      <td>1.0</td>\n",
       "      <td>female</td>\n",
       "      <td>right handed</td>\n",
       "      <td>college/bachelor degree</td>\n",
       "      <td>no</td>\n",
       "      <td>village</td>\n",
       "      <td>block of flats</td>\n",
       "    </tr>\n",
       "    <tr>\n",
       "      <th>1</th>\n",
       "      <td>4.0</td>\n",
       "      <td>4.0</td>\n",
       "      <td>2.0</td>\n",
       "      <td>1.0</td>\n",
       "      <td>1.0</td>\n",
       "      <td>1.0</td>\n",
       "      <td>2.0</td>\n",
       "      <td>3.0</td>\n",
       "      <td>5.0</td>\n",
       "      <td>4.0</td>\n",
       "      <td>...</td>\n",
       "      <td>19.0</td>\n",
       "      <td>163.0</td>\n",
       "      <td>58.0</td>\n",
       "      <td>2.0</td>\n",
       "      <td>female</td>\n",
       "      <td>right handed</td>\n",
       "      <td>college/bachelor degree</td>\n",
       "      <td>no</td>\n",
       "      <td>city</td>\n",
       "      <td>block of flats</td>\n",
       "    </tr>\n",
       "    <tr>\n",
       "      <th>2</th>\n",
       "      <td>5.0</td>\n",
       "      <td>5.0</td>\n",
       "      <td>2.0</td>\n",
       "      <td>2.0</td>\n",
       "      <td>3.0</td>\n",
       "      <td>4.0</td>\n",
       "      <td>5.0</td>\n",
       "      <td>3.0</td>\n",
       "      <td>5.0</td>\n",
       "      <td>3.0</td>\n",
       "      <td>...</td>\n",
       "      <td>20.0</td>\n",
       "      <td>176.0</td>\n",
       "      <td>67.0</td>\n",
       "      <td>2.0</td>\n",
       "      <td>female</td>\n",
       "      <td>right handed</td>\n",
       "      <td>secondary school</td>\n",
       "      <td>no</td>\n",
       "      <td>city</td>\n",
       "      <td>block of flats</td>\n",
       "    </tr>\n",
       "    <tr>\n",
       "      <th>3</th>\n",
       "      <td>5.0</td>\n",
       "      <td>3.0</td>\n",
       "      <td>2.0</td>\n",
       "      <td>1.0</td>\n",
       "      <td>1.0</td>\n",
       "      <td>1.0</td>\n",
       "      <td>1.0</td>\n",
       "      <td>2.0</td>\n",
       "      <td>2.0</td>\n",
       "      <td>1.0</td>\n",
       "      <td>...</td>\n",
       "      <td>22.0</td>\n",
       "      <td>172.0</td>\n",
       "      <td>59.0</td>\n",
       "      <td>1.0</td>\n",
       "      <td>female</td>\n",
       "      <td>right handed</td>\n",
       "      <td>college/bachelor degree</td>\n",
       "      <td>yes</td>\n",
       "      <td>city</td>\n",
       "      <td>house/bungalow</td>\n",
       "    </tr>\n",
       "    <tr>\n",
       "      <th>4</th>\n",
       "      <td>5.0</td>\n",
       "      <td>3.0</td>\n",
       "      <td>4.0</td>\n",
       "      <td>3.0</td>\n",
       "      <td>2.0</td>\n",
       "      <td>4.0</td>\n",
       "      <td>3.0</td>\n",
       "      <td>5.0</td>\n",
       "      <td>3.0</td>\n",
       "      <td>1.0</td>\n",
       "      <td>...</td>\n",
       "      <td>20.0</td>\n",
       "      <td>170.0</td>\n",
       "      <td>59.0</td>\n",
       "      <td>1.0</td>\n",
       "      <td>female</td>\n",
       "      <td>right handed</td>\n",
       "      <td>secondary school</td>\n",
       "      <td>no</td>\n",
       "      <td>village</td>\n",
       "      <td>house/bungalow</td>\n",
       "    </tr>\n",
       "  </tbody>\n",
       "</table>\n",
       "<p>5 rows × 150 columns</p>\n",
       "</div>"
      ],
      "text/plain": [
       "   Music  Slow songs or fast songs  Dance  Folk  Country  Classical music  \\\n",
       "0    5.0                       3.0    2.0   1.0      2.0              2.0   \n",
       "1    4.0                       4.0    2.0   1.0      1.0              1.0   \n",
       "2    5.0                       5.0    2.0   2.0      3.0              4.0   \n",
       "3    5.0                       3.0    2.0   1.0      1.0              1.0   \n",
       "4    5.0                       3.0    4.0   3.0      2.0              4.0   \n",
       "\n",
       "   Musical  Pop  Rock  Metal or Hardrock  ...   Age  Height  Weight  \\\n",
       "0      1.0  5.0   5.0                1.0  ...  20.0   163.0    48.0   \n",
       "1      2.0  3.0   5.0                4.0  ...  19.0   163.0    58.0   \n",
       "2      5.0  3.0   5.0                3.0  ...  20.0   176.0    67.0   \n",
       "3      1.0  2.0   2.0                1.0  ...  22.0   172.0    59.0   \n",
       "4      3.0  5.0   3.0                1.0  ...  20.0   170.0    59.0   \n",
       "\n",
       "   Number of siblings  Gender  Left - right handed                Education  \\\n",
       "0                 1.0  female         right handed  college/bachelor degree   \n",
       "1                 2.0  female         right handed  college/bachelor degree   \n",
       "2                 2.0  female         right handed         secondary school   \n",
       "3                 1.0  female         right handed  college/bachelor degree   \n",
       "4                 1.0  female         right handed         secondary school   \n",
       "\n",
       "   Only child  Village - town  House - block of flats  \n",
       "0          no         village          block of flats  \n",
       "1          no            city          block of flats  \n",
       "2          no            city          block of flats  \n",
       "3         yes            city          house/bungalow  \n",
       "4          no         village          house/bungalow  \n",
       "\n",
       "[5 rows x 150 columns]"
      ]
     },
     "execution_count": 41,
     "metadata": {},
     "output_type": "execute_result"
    }
   ],
   "source": [
    "df=pd.read_csv('responses.csv')\n",
    "df.head(5)"
   ]
  },
  {
   "cell_type": "code",
   "execution_count": 42,
   "metadata": {},
   "outputs": [],
   "source": [
    "# Retaining only the required columns\n",
    "\n",
    "df=df[['Gender','Village - town','Finances','Healthy eating']]"
   ]
  },
  {
   "cell_type": "code",
   "execution_count": 43,
   "metadata": {},
   "outputs": [
    {
     "data": {
      "text/html": [
       "<div>\n",
       "<style scoped>\n",
       "    .dataframe tbody tr th:only-of-type {\n",
       "        vertical-align: middle;\n",
       "    }\n",
       "\n",
       "    .dataframe tbody tr th {\n",
       "        vertical-align: top;\n",
       "    }\n",
       "\n",
       "    .dataframe thead th {\n",
       "        text-align: right;\n",
       "    }\n",
       "</style>\n",
       "<table border=\"1\" class=\"dataframe\">\n",
       "  <thead>\n",
       "    <tr style=\"text-align: right;\">\n",
       "      <th></th>\n",
       "      <th>Gender</th>\n",
       "      <th>Village - town</th>\n",
       "      <th>Finances</th>\n",
       "      <th>Healthy eating</th>\n",
       "    </tr>\n",
       "  </thead>\n",
       "  <tbody>\n",
       "    <tr>\n",
       "      <th>0</th>\n",
       "      <td>female</td>\n",
       "      <td>village</td>\n",
       "      <td>3.0</td>\n",
       "      <td>4.0</td>\n",
       "    </tr>\n",
       "    <tr>\n",
       "      <th>1</th>\n",
       "      <td>female</td>\n",
       "      <td>city</td>\n",
       "      <td>3.0</td>\n",
       "      <td>3.0</td>\n",
       "    </tr>\n",
       "    <tr>\n",
       "      <th>2</th>\n",
       "      <td>female</td>\n",
       "      <td>city</td>\n",
       "      <td>2.0</td>\n",
       "      <td>3.0</td>\n",
       "    </tr>\n",
       "    <tr>\n",
       "      <th>3</th>\n",
       "      <td>female</td>\n",
       "      <td>city</td>\n",
       "      <td>2.0</td>\n",
       "      <td>3.0</td>\n",
       "    </tr>\n",
       "    <tr>\n",
       "      <th>4</th>\n",
       "      <td>female</td>\n",
       "      <td>village</td>\n",
       "      <td>4.0</td>\n",
       "      <td>4.0</td>\n",
       "    </tr>\n",
       "  </tbody>\n",
       "</table>\n",
       "</div>"
      ],
      "text/plain": [
       "   Gender Village - town  Finances  Healthy eating\n",
       "0  female        village       3.0             4.0\n",
       "1  female           city       3.0             3.0\n",
       "2  female           city       2.0             3.0\n",
       "3  female           city       2.0             3.0\n",
       "4  female        village       4.0             4.0"
      ]
     },
     "execution_count": 43,
     "metadata": {},
     "output_type": "execute_result"
    }
   ],
   "source": [
    "df.head()"
   ]
  },
  {
   "cell_type": "code",
   "execution_count": 44,
   "metadata": {},
   "outputs": [
    {
     "data": {
      "text/plain": [
       "RangeIndex(start=0, stop=1010, step=1)"
      ]
     },
     "execution_count": 44,
     "metadata": {},
     "output_type": "execute_result"
    }
   ],
   "source": [
    "df.index\n",
    "\n",
    "# There are 1010 index values. We should therefore see 1010 observations in each feature"
   ]
  },
  {
   "cell_type": "code",
   "execution_count": 45,
   "metadata": {},
   "outputs": [
    {
     "name": "stdout",
     "output_type": "stream",
     "text": [
      "<class 'pandas.core.frame.DataFrame'>\n",
      "RangeIndex: 1010 entries, 0 to 1009\n",
      "Data columns (total 4 columns):\n",
      "Gender            1004 non-null object\n",
      "Village - town    1006 non-null object\n",
      "Finances          1007 non-null float64\n",
      "Healthy eating    1007 non-null float64\n",
      "dtypes: float64(2), object(2)\n",
      "memory usage: 31.6+ KB\n"
     ]
    }
   ],
   "source": [
    "# Checking for missing values\n",
    "df.info()\n",
    "\n",
    "# There are missing values in all the columns. Further exploration is required to fix these null values accordingly"
   ]
  },
  {
   "cell_type": "code",
   "execution_count": 46,
   "metadata": {
    "scrolled": true
   },
   "outputs": [
    {
     "data": {
      "text/html": [
       "<div>\n",
       "<style scoped>\n",
       "    .dataframe tbody tr th:only-of-type {\n",
       "        vertical-align: middle;\n",
       "    }\n",
       "\n",
       "    .dataframe tbody tr th {\n",
       "        vertical-align: top;\n",
       "    }\n",
       "\n",
       "    .dataframe thead th {\n",
       "        text-align: right;\n",
       "    }\n",
       "</style>\n",
       "<table border=\"1\" class=\"dataframe\">\n",
       "  <thead>\n",
       "    <tr style=\"text-align: right;\">\n",
       "      <th></th>\n",
       "      <th>Gender</th>\n",
       "      <th>Village - town</th>\n",
       "      <th>Finances</th>\n",
       "      <th>Healthy eating</th>\n",
       "    </tr>\n",
       "  </thead>\n",
       "  <tbody>\n",
       "    <tr>\n",
       "      <th>137</th>\n",
       "      <td>NaN</td>\n",
       "      <td>village</td>\n",
       "      <td>4.0</td>\n",
       "      <td>1.0</td>\n",
       "    </tr>\n",
       "    <tr>\n",
       "      <th>201</th>\n",
       "      <td>NaN</td>\n",
       "      <td>village</td>\n",
       "      <td>2.0</td>\n",
       "      <td>3.0</td>\n",
       "    </tr>\n",
       "    <tr>\n",
       "      <th>226</th>\n",
       "      <td>NaN</td>\n",
       "      <td>village</td>\n",
       "      <td>3.0</td>\n",
       "      <td>3.0</td>\n",
       "    </tr>\n",
       "    <tr>\n",
       "      <th>542</th>\n",
       "      <td>NaN</td>\n",
       "      <td>city</td>\n",
       "      <td>2.0</td>\n",
       "      <td>4.0</td>\n",
       "    </tr>\n",
       "    <tr>\n",
       "      <th>621</th>\n",
       "      <td>NaN</td>\n",
       "      <td>city</td>\n",
       "      <td>3.0</td>\n",
       "      <td>4.0</td>\n",
       "    </tr>\n",
       "    <tr>\n",
       "      <th>934</th>\n",
       "      <td>NaN</td>\n",
       "      <td>city</td>\n",
       "      <td>2.0</td>\n",
       "      <td>2.0</td>\n",
       "    </tr>\n",
       "  </tbody>\n",
       "</table>\n",
       "</div>"
      ],
      "text/plain": [
       "    Gender Village - town  Finances  Healthy eating\n",
       "137    NaN        village       4.0             1.0\n",
       "201    NaN        village       2.0             3.0\n",
       "226    NaN        village       3.0             3.0\n",
       "542    NaN           city       2.0             4.0\n",
       "621    NaN           city       3.0             4.0\n",
       "934    NaN           city       2.0             2.0"
      ]
     },
     "execution_count": 46,
     "metadata": {},
     "output_type": "execute_result"
    }
   ],
   "source": [
    "# Exploring the null values in the 'Gender' column\n",
    "\n",
    "df[df['Gender'].isnull()]\n",
    "\n",
    "# There are 6 rows which have null values for 'Gender'. These entries are replaced these with the most frequently occuring value."
   ]
  },
  {
   "cell_type": "code",
   "execution_count": 47,
   "metadata": {},
   "outputs": [],
   "source": [
    "#Fixing null values in the 'Gender column with the most frequent value \n",
    "\n",
    "df['Gender']=df['Gender'].fillna(df['Gender'].value_counts().index[0])"
   ]
  },
  {
   "cell_type": "code",
   "execution_count": 48,
   "metadata": {},
   "outputs": [
    {
     "data": {
      "text/html": [
       "<div>\n",
       "<style scoped>\n",
       "    .dataframe tbody tr th:only-of-type {\n",
       "        vertical-align: middle;\n",
       "    }\n",
       "\n",
       "    .dataframe tbody tr th {\n",
       "        vertical-align: top;\n",
       "    }\n",
       "\n",
       "    .dataframe thead th {\n",
       "        text-align: right;\n",
       "    }\n",
       "</style>\n",
       "<table border=\"1\" class=\"dataframe\">\n",
       "  <thead>\n",
       "    <tr style=\"text-align: right;\">\n",
       "      <th></th>\n",
       "      <th>Gender</th>\n",
       "      <th>Village - town</th>\n",
       "      <th>Finances</th>\n",
       "      <th>Healthy eating</th>\n",
       "    </tr>\n",
       "  </thead>\n",
       "  <tbody>\n",
       "    <tr>\n",
       "      <th>45</th>\n",
       "      <td>male</td>\n",
       "      <td>NaN</td>\n",
       "      <td>4.0</td>\n",
       "      <td>5.0</td>\n",
       "    </tr>\n",
       "    <tr>\n",
       "      <th>368</th>\n",
       "      <td>female</td>\n",
       "      <td>NaN</td>\n",
       "      <td>4.0</td>\n",
       "      <td>4.0</td>\n",
       "    </tr>\n",
       "    <tr>\n",
       "      <th>996</th>\n",
       "      <td>male</td>\n",
       "      <td>NaN</td>\n",
       "      <td>3.0</td>\n",
       "      <td>4.0</td>\n",
       "    </tr>\n",
       "    <tr>\n",
       "      <th>997</th>\n",
       "      <td>female</td>\n",
       "      <td>NaN</td>\n",
       "      <td>3.0</td>\n",
       "      <td>3.0</td>\n",
       "    </tr>\n",
       "  </tbody>\n",
       "</table>\n",
       "</div>"
      ],
      "text/plain": [
       "     Gender Village - town  Finances  Healthy eating\n",
       "45     male            NaN       4.0             5.0\n",
       "368  female            NaN       4.0             4.0\n",
       "996    male            NaN       3.0             4.0\n",
       "997  female            NaN       3.0             3.0"
      ]
     },
     "execution_count": 48,
     "metadata": {},
     "output_type": "execute_result"
    }
   ],
   "source": [
    "# Exploring the null values in the 'Village - town' column\n",
    "\n",
    "df[df['Village - town'].isnull()]"
   ]
  },
  {
   "cell_type": "code",
   "execution_count": 49,
   "metadata": {},
   "outputs": [],
   "source": [
    "# Fixing the null values in the 'Village - town' column\n",
    "\n",
    "# Similar to the 'Gender' column, we have 4 rows which have null values for 'Village-town' that could be replaced with the most frequently occuring value\n",
    "\n",
    "df['Village - town']=df['Village - town'].fillna(df['Village - town'].value_counts().index[0])"
   ]
  },
  {
   "cell_type": "code",
   "execution_count": 84,
   "metadata": {},
   "outputs": [
    {
     "name": "stdout",
     "output_type": "stream",
     "text": [
      "<class 'pandas.core.frame.DataFrame'>\n",
      "RangeIndex: 1010 entries, 0 to 1009\n",
      "Data columns (total 4 columns):\n",
      "Gender            1010 non-null object\n",
      "Village - town    1010 non-null object\n",
      "Finances          1010 non-null float64\n",
      "Healthy eating    1010 non-null float64\n",
      "dtypes: float64(2), object(2)\n",
      "memory usage: 31.6+ KB\n"
     ]
    }
   ],
   "source": [
    "# Fixing the null values in the 'Finances' and 'Healthy eating' columns\n",
    "\n",
    "df.info()\n",
    "\n",
    "# The 3 null values each in 'Finances' and 'Healthy eating' columns could be replaced with the mean, median, or mode"
   ]
  },
  {
   "cell_type": "code",
   "execution_count": 51,
   "metadata": {},
   "outputs": [
    {
     "data": {
      "text/html": [
       "<div>\n",
       "<style scoped>\n",
       "    .dataframe tbody tr th:only-of-type {\n",
       "        vertical-align: middle;\n",
       "    }\n",
       "\n",
       "    .dataframe tbody tr th {\n",
       "        vertical-align: top;\n",
       "    }\n",
       "\n",
       "    .dataframe thead th {\n",
       "        text-align: right;\n",
       "    }\n",
       "</style>\n",
       "<table border=\"1\" class=\"dataframe\">\n",
       "  <thead>\n",
       "    <tr style=\"text-align: right;\">\n",
       "      <th></th>\n",
       "      <th>count</th>\n",
       "      <th>mean</th>\n",
       "      <th>std</th>\n",
       "      <th>min</th>\n",
       "      <th>25%</th>\n",
       "      <th>50%</th>\n",
       "      <th>75%</th>\n",
       "      <th>max</th>\n",
       "    </tr>\n",
       "  </thead>\n",
       "  <tbody>\n",
       "    <tr>\n",
       "      <th>Finances</th>\n",
       "      <td>1007.0</td>\n",
       "      <td>3.023833</td>\n",
       "      <td>1.144365</td>\n",
       "      <td>1.0</td>\n",
       "      <td>2.0</td>\n",
       "      <td>3.0</td>\n",
       "      <td>4.0</td>\n",
       "      <td>5.0</td>\n",
       "    </tr>\n",
       "    <tr>\n",
       "      <th>Healthy eating</th>\n",
       "      <td>1007.0</td>\n",
       "      <td>3.031778</td>\n",
       "      <td>0.936865</td>\n",
       "      <td>1.0</td>\n",
       "      <td>3.0</td>\n",
       "      <td>3.0</td>\n",
       "      <td>4.0</td>\n",
       "      <td>5.0</td>\n",
       "    </tr>\n",
       "  </tbody>\n",
       "</table>\n",
       "</div>"
      ],
      "text/plain": [
       "                 count      mean       std  min  25%  50%  75%  max\n",
       "Finances        1007.0  3.023833  1.144365  1.0  2.0  3.0  4.0  5.0\n",
       "Healthy eating  1007.0  3.031778  0.936865  1.0  3.0  3.0  4.0  5.0"
      ]
     },
     "execution_count": 51,
     "metadata": {},
     "output_type": "execute_result"
    }
   ],
   "source": [
    "df.describe().transpose()\n",
    "# There isn't a big difference between the mean and median. Hence, we can choose to replace null values with average (rounded to the nearest whole number), median, or mode\n",
    "# Also, the dataset does not appear to have any outliers"
   ]
  },
  {
   "cell_type": "code",
   "execution_count": 58,
   "metadata": {},
   "outputs": [],
   "source": [
    "# Replacing null values in 'Finances' and 'Healthy eating' with the respective modes\n",
    "df['Finances']=df['Finances'].fillna(df['Finances'].mode()[0])\n",
    "df['Healthy eating']=df['Healthy eating'].fillna(df['Healthy eating'].mode()[0])"
   ]
  },
  {
   "cell_type": "code",
   "execution_count": 59,
   "metadata": {},
   "outputs": [
    {
     "name": "stdout",
     "output_type": "stream",
     "text": [
      "<class 'pandas.core.frame.DataFrame'>\n",
      "RangeIndex: 1010 entries, 0 to 1009\n",
      "Data columns (total 4 columns):\n",
      "Gender            1010 non-null object\n",
      "Village - town    1010 non-null object\n",
      "Finances          1010 non-null float64\n",
      "Healthy eating    1010 non-null float64\n",
      "dtypes: float64(2), object(2)\n",
      "memory usage: 31.6+ KB\n"
     ]
    }
   ],
   "source": [
    "df.info()\n",
    "# We do not have any null values any more"
   ]
  },
  {
   "cell_type": "code",
   "execution_count": 60,
   "metadata": {},
   "outputs": [
    {
     "name": "stdout",
     "output_type": "stream",
     "text": [
      "['female' 'male']\n",
      "['village' 'city']\n",
      "[3. 2. 4. 5. 1.]\n",
      "[4. 3. 2. 1. 5.]\n"
     ]
    }
   ],
   "source": [
    "# Checking if any of the columns have unexpected values \n",
    "\n",
    "cols=df.columns.tolist()\n",
    "for col in cols:\n",
    "    print (df[col].unique())\n",
    "\n",
    "# We do not have any unexpected values in any of the columns. \n",
    "# We cannot identify outliers based on 'Gender' and 'Village-town' as they do not have any unexpected values\n",
    "# Also, given that 'Healthy eating' and 'Finances' are rating questions, we might not be able to mark outliers based on just these two columns \n",
    "# unless we have substantial evidence to do so. (For example: we could've removed outliers if respondents had given the same ratings across many rating questions)"
   ]
  },
  {
   "cell_type": "code",
   "execution_count": 61,
   "metadata": {},
   "outputs": [
    {
     "data": {
      "text/html": [
       "<div>\n",
       "<style scoped>\n",
       "    .dataframe tbody tr th:only-of-type {\n",
       "        vertical-align: middle;\n",
       "    }\n",
       "\n",
       "    .dataframe tbody tr th {\n",
       "        vertical-align: top;\n",
       "    }\n",
       "\n",
       "    .dataframe thead th {\n",
       "        text-align: right;\n",
       "    }\n",
       "</style>\n",
       "<table border=\"1\" class=\"dataframe\">\n",
       "  <thead>\n",
       "    <tr style=\"text-align: right;\">\n",
       "      <th>Village - town</th>\n",
       "      <th>city</th>\n",
       "      <th>village</th>\n",
       "      <th>All</th>\n",
       "    </tr>\n",
       "    <tr>\n",
       "      <th>Gender</th>\n",
       "      <th></th>\n",
       "      <th></th>\n",
       "      <th></th>\n",
       "    </tr>\n",
       "  </thead>\n",
       "  <tbody>\n",
       "    <tr>\n",
       "      <th>female</th>\n",
       "      <td>422</td>\n",
       "      <td>177</td>\n",
       "      <td>599</td>\n",
       "    </tr>\n",
       "    <tr>\n",
       "      <th>male</th>\n",
       "      <td>289</td>\n",
       "      <td>122</td>\n",
       "      <td>411</td>\n",
       "    </tr>\n",
       "    <tr>\n",
       "      <th>All</th>\n",
       "      <td>711</td>\n",
       "      <td>299</td>\n",
       "      <td>1010</td>\n",
       "    </tr>\n",
       "  </tbody>\n",
       "</table>\n",
       "</div>"
      ],
      "text/plain": [
       "Village - town  city  village   All\n",
       "Gender                             \n",
       "female           422      177   599\n",
       "male             289      122   411\n",
       "All              711      299  1010"
      ]
     },
     "execution_count": 61,
     "metadata": {},
     "output_type": "execute_result"
    }
   ],
   "source": [
    "# Finally, we have the following distribution of respondents\n",
    "\n",
    "pd.crosstab(df['Gender'],df['Village - town'],margins=True)"
   ]
  },
  {
   "cell_type": "code",
   "execution_count": 62,
   "metadata": {},
   "outputs": [
    {
     "data": {
      "text/plain": [
       "[<matplotlib.axis.YTick at 0x1c288a2db00>,\n",
       " <matplotlib.axis.YTick at 0x1c288a2d438>,\n",
       " <matplotlib.axis.YTick at 0x1c288a26438>,\n",
       " <matplotlib.axis.YTick at 0x1c288a7f908>,\n",
       " <matplotlib.axis.YTick at 0x1c288a7fe80>,\n",
       " <matplotlib.axis.YTick at 0x1c288a78c50>,\n",
       " <matplotlib.axis.YTick at 0x1c288a744a8>]"
      ]
     },
     "execution_count": 62,
     "metadata": {},
     "output_type": "execute_result"
    },
    {
     "data": {
      "image/png": "[encoded data removed]",
      "text/plain": [
       "<Figure size 720x288 with 2 Axes>"
      ]
     },
     "metadata": {
      "needs_background": "light"
     },
     "output_type": "display_data"
    }
   ],
   "source": [
    "# In the next couple of cells, we perform some basic EDA\n",
    "# We start with checking the distribution of ratings for 'Finances' and 'Healthy eating' \n",
    "\n",
    "f,ax=plt.subplots(1,2,figsize=(10,4))\n",
    "f.subplots_adjust(wspace=0.5)\n",
    "\n",
    "sns.countplot(x=df['Healthy eating'],ax=ax[0])\n",
    "sns.countplot(df['Finances'],ax=ax[1])\n",
    "ax[0].set_yticks(np.arange(0,700,100))\n",
    "ax[1].set_yticks(np.arange(0,700,100))\n",
    "\n",
    "# It is observed that close to half of the respondents (~500/1010) have rated 3 for 'Healthy eating'.\n",
    "# For 'Finances', the rating distribution is slighty more spread out compared to 'Healthy eating'"
   ]
  },
  {
   "cell_type": "code",
   "execution_count": 18,
   "metadata": {},
   "outputs": [
    {
     "data": {
      "text/plain": [
       "<matplotlib.axes._subplots.AxesSubplot at 0x1c2884244a8>"
      ]
     },
     "execution_count": 18,
     "metadata": {},
     "output_type": "execute_result"
    },
    {
     "data": {
      "image/png": "[encoded data removed]",
      "text/plain": [
       "<Figure size 720x288 with 2 Axes>"
      ]
     },
     "metadata": {
      "needs_background": "light"
     },
     "output_type": "display_data"
    }
   ],
   "source": [
    "# We can first deep-dive into 'Finances' and look at whether 'Gender' or 'Village-town' influence ratings\n",
    "# For this, we check the aggregate plots: For example: The plots below show the proportion of males who have rated 1,2,3,4,or 5 for 'Finances' compared to the proportion of females\n",
    "\n",
    "f,ax=plt.subplots(1,2,figsize=(10,4))\n",
    "f.subplots_adjust(wspace=0.5)\n",
    "\n",
    "prop_df_Finances_Gender = (df['Finances']\n",
    "           .groupby(df['Gender'])\n",
    "           .value_counts(normalize=True)\n",
    "           .rename(\"Proportion\")\n",
    "           .reset_index())\n",
    "\n",
    "prop_df_Finances_VilageTown = (df['Finances']\n",
    "           .groupby(df['Village - town'])\n",
    "           .value_counts(normalize=True)\n",
    "           .rename(\"Proportion\")\n",
    "           .reset_index())\n",
    "\n",
    "sns.barplot(x='Finances', y='Proportion', hue='Gender', data=prop_df_Finances_Gender,ax=ax[0])\n",
    "sns.barplot(x='Finances', y='Proportion', hue='Village - town', data=prop_df_Finances_VilageTown,ax=ax[1])\n",
    "\n",
    "# It is observed that there isn't a stark difference in the way females and males rate Finances indicating that Gender might not influence Finance ratings\n",
    "# However, we see a difference in the way residents of Village rate Finances compared to residents of City.\n",
    "# Residents of Village indicate that they are more likely to save all the money they can (ratings 4 and 5) compared to residents of Cities"
   ]
  },
  {
   "cell_type": "code",
   "execution_count": 63,
   "metadata": {},
   "outputs": [
    {
     "data": {
      "text/plain": [
       "(5.328890527727397,\n",
       " 0.25518454225298753,\n",
       " 4,\n",
       " array([[ 74.13366337, 103.19405941, 214.0980198 , 149.45346535,\n",
       "          58.12079208],\n",
       "        [ 50.86633663,  70.80594059, 146.9019802 , 102.54653465,\n",
       "          39.87920792]]))"
      ]
     },
     "execution_count": 63,
     "metadata": {},
     "output_type": "execute_result"
    }
   ],
   "source": [
    "# Question 2a: Is saving money (finances) gender dependant?\n",
    "\n",
    "# We can run the chi-square test to test for independence of two categorical variables\n",
    "\n",
    "# H0: There is no relationship between 'Gender' and rating of 'Finances'\n",
    "# Ha: There is a relationship between 'Gender' and rating of 'Finances'\n",
    "\n",
    "cont=pd.crosstab(df['Gender'],df['Finances'])\n",
    "chi2_contingency(cont)\n",
    "\n",
    "# Since the p-value (0.25) is >5% we accept the null hypothesis\n",
    "# Conclusion: Saving money (finances) is NOT gender dependant"
   ]
  },
  {
   "cell_type": "markdown",
   "metadata": {},
   "source": [
    "## Conclusion: Saving money (finances) is NOT gender dependant"
   ]
  },
  {
   "cell_type": "code",
   "execution_count": 64,
   "metadata": {},
   "outputs": [
    {
     "name": "stdout",
     "output_type": "stream",
     "text": [
      "Mean Finance rating among village residents: 3.17056856187291\n",
      "Mean Finance rating among city residents: 2.962025316455696\n"
     ]
    }
   ],
   "source": [
    "# Question 2b: Is there any differences in money saving (finances) between people from city or village?\n",
    "\n",
    "Mean_Finances_Village=df[df['Village - town']=='village']['Finances'].mean()\n",
    "Mean_Finances_City=df[df['Village - town']=='city']['Finances'].mean()\n",
    "print(\"Mean Finance rating among village residents:\",Mean_Finances_Village)\n",
    "print(\"Mean Finance rating among city residents:\",Mean_Finances_City)\n",
    "\n",
    "# It's observed that Village residents rate themselves slightly higher than City residents in terms of finances.\n",
    "# We could use the t-test to see if the difference is significant"
   ]
  },
  {
   "cell_type": "code",
   "execution_count": 65,
   "metadata": {},
   "outputs": [],
   "source": [
    "# Creating the required data subsets\n",
    "\n",
    "Finances_Village=df[df['Village - town']=='village']['Finances']\n",
    "Finances_City=df[df['Village - town']=='city']['Finances']"
   ]
  },
  {
   "cell_type": "code",
   "execution_count": 66,
   "metadata": {},
   "outputs": [
    {
     "name": "stdout",
     "output_type": "stream",
     "text": [
      "p-value for village: 1.0102719442267594e-12,\n",
      "p-value for city: 7.057024187571386e-20\n"
     ]
    }
   ],
   "source": [
    "# Shapiro test to verify normality of data\n",
    "\n",
    "# H0: Data is normally distributed\n",
    "# Ha: Data is not normally distributed\n",
    "\n",
    "w_stat_village,p_value_village=shapiro(Finances_Village)\n",
    "w_stat_city,p_value_city=shapiro(Finances_City)\n",
    "print(\"p-value for village: {},\\np-value for city: {}\".format(p_value_village,p_value_city))\n",
    "\n",
    "# Since p-value > 5% for both the distributions, we accept the null hypothesis: Data is normally distributed"
   ]
  },
  {
   "cell_type": "code",
   "execution_count": 67,
   "metadata": {},
   "outputs": [
    {
     "data": {
      "text/plain": [
       "LeveneResult(statistic=4.445255344457927, pvalue=0.035244641971051004)"
      ]
     },
     "execution_count": 67,
     "metadata": {},
     "output_type": "execute_result"
    }
   ],
   "source": [
    "# Levene's test to verify equal variance among the two groups \n",
    "\n",
    "# H0: Variances of the two groups are equal\n",
    "# Ha: Variances of the two groups are not equal\n",
    "\n",
    "levene(Finances_Village,Finances_City)\n",
    "\n",
    "# p-value is <5% and hence we reject the null hypothesis: Variances are unequal. We can go ahead with the t-test, but with unequal variances"
   ]
  },
  {
   "cell_type": "code",
   "execution_count": 68,
   "metadata": {
    "scrolled": true
   },
   "outputs": [
    {
     "data": {
      "text/plain": [
       "Ttest_indResult(statistic=2.5767607213707127, pvalue=0.01024535677156769)"
      ]
     },
     "execution_count": 68,
     "metadata": {},
     "output_type": "execute_result"
    }
   ],
   "source": [
    "# We now run the t-test WITH UNEQUAL VARIANCES to check if the means of 'Finances' is significantly different based on place of residence - 'Village-town'\n",
    "\n",
    "#H0: The mean rating for 'Finances' is the same for residents of village and city\n",
    "#Ha: The mean rating for 'Finances' is not the same for residents of village and city\n",
    "\n",
    "ttest_ind(Finances_Village,Finances_City,equal_var=False)\n",
    "\n",
    "# p-value is <5% and hence we reject the null hypothesis: Mean ratings for 'Finances' is the not the same for residents of village and city\n",
    "# Conclusion: There is a difference in money saving (finances) between people from city and village\n",
    "# Residents of villages are significantly more likely to save money compared to residents of cities"
   ]
  },
  {
   "cell_type": "markdown",
   "metadata": {},
   "source": [
    "## Conclusion: There is a difference in money saving (finances) between people from city and village\n",
    "## Residents of villages are significantly more likely to save money compared to residents of cities"
   ]
  },
  {
   "cell_type": "code",
   "execution_count": 69,
   "metadata": {},
   "outputs": [
    {
     "data": {
      "text/plain": [
       "<matplotlib.axes._subplots.AxesSubplot at 0x1c288af22b0>"
      ]
     },
     "execution_count": 69,
     "metadata": {},
     "output_type": "execute_result"
    },
    {
     "data": {
      "image/png": "[encoded data removed]",
      "text/plain": [
       "<Figure size 720x288 with 2 Axes>"
      ]
     },
     "metadata": {
      "needs_background": "light"
     },
     "output_type": "display_data"
    }
   ],
   "source": [
    "# We can now deep-dive into 'Healthy eating' and check if ratings are 'Gender' dependant and/or 'Village - town' dependant\n",
    "\n",
    "# For this, we check the aggregate plots: For example: The plots below show the proportion of males and females who have rated 1,2,3,4,or 5 for 'Healthy eating'\n",
    "\n",
    "f,ax=plt.subplots(1,2,figsize=(10,4))\n",
    "f.subplots_adjust(wspace=0.5)\n",
    "\n",
    "prop_df_HealthyEating_Gender = (df['Healthy eating']\n",
    "           .groupby(df['Gender'])\n",
    "           .value_counts(normalize=True)\n",
    "           .rename(\"Proportion\")\n",
    "           .reset_index())\n",
    "\n",
    "prop_df_HealthyEating_VilageTown = (df['Healthy eating']\n",
    "           .groupby(df['Village - town'])\n",
    "           .value_counts(normalize=True)\n",
    "           .rename(\"Proportion\")\n",
    "           .reset_index())\n",
    "\n",
    "sns.barplot(x='Healthy eating', y='Proportion', hue='Gender', data=prop_df_HealthyEating_Gender,ax=ax[0])\n",
    "sns.barplot(x='Healthy eating', y='Proportion', hue='Village - town', data=prop_df_HealthyEating_VilageTown,ax=ax[1])\n",
    "\n",
    "# It is observed that the rating behavior for 'Healthy eating' is slightly different between males and females\n",
    "# We can formulate a hypothesis and test to verify if the rating behavior for 'Healthy eating' differs based on 'Gender'\n",
    "\n",
    "# The rating behavior is fairly consistent among city residents and village residents indicating that place of residence\n",
    "# might not influence respondents' perception of 'Healthy eating'"
   ]
  },
  {
   "cell_type": "code",
   "execution_count": 71,
   "metadata": {},
   "outputs": [
    {
     "name": "stdout",
     "output_type": "stream",
     "text": [
      "Mean Healthy Eating rating among males: 2.9610705596107056\n",
      "Mean Healthy Eating rating among females: 3.0801335559265444\n"
     ]
    }
   ],
   "source": [
    "# Question 2c: Do Women have a Healthier Lifestyle than Men?\n",
    "\n",
    "Mean_Healthyeating_Males=df[df['Gender']=='male']['Healthy eating'].mean()\n",
    "Mean_Healthyeating_Females=df[df['Gender']=='female']['Healthy eating'].mean()\n",
    "print(\"Mean Healthy Eating rating among males:\",Mean_Healthyeating_Males)\n",
    "print(\"Mean Healthy Eating rating among females:\",Mean_Healthyeating_Females)\n",
    "\n",
    "# It's observed that females rate themselves slightly higher than males in terms of Healthy eating.\n",
    "# We could use the one tailed t-test to see if women have a significantly healthier lifestyle"
   ]
  },
  {
   "cell_type": "code",
   "execution_count": 72,
   "metadata": {},
   "outputs": [],
   "source": [
    "# Creating the required data subsets\n",
    "Healthyeating_female=df[df['Gender']=='female']['Healthy eating']\n",
    "Healthyeating_male=df[df['Gender']=='male']['Healthy eating']"
   ]
  },
  {
   "cell_type": "code",
   "execution_count": 73,
   "metadata": {},
   "outputs": [
    {
     "name": "stdout",
     "output_type": "stream",
     "text": [
      "p-value for females: 1.755579021221877e-23,\n",
      "p-value for males: 1.2739190238247465e-15\n"
     ]
    }
   ],
   "source": [
    "# Shapiro test to verify normality of data\n",
    "\n",
    "w_stat_females_HE,p_value_females_HE=shapiro(Healthyeating_female)\n",
    "w_stat_males_HE,p_value_males_HE=shapiro(Healthyeating_male)\n",
    "print(\"p-value for females: {},\\np-value for males: {}\".format(p_value_females_HE,p_value_males_HE))\n",
    "\n",
    "# Since p-value > 5% for both the distributions, we accept the null hypothesis: Data is normally distributed"
   ]
  },
  {
   "cell_type": "code",
   "execution_count": 74,
   "metadata": {},
   "outputs": [
    {
     "data": {
      "text/plain": [
       "LeveneResult(statistic=19.478050381300196, pvalue=1.1272330320679055e-05)"
      ]
     },
     "execution_count": 74,
     "metadata": {},
     "output_type": "execute_result"
    }
   ],
   "source": [
    "# Levene's test to verify equal variance among the two groups \n",
    "\n",
    "levene(Healthyeating_female,Healthyeating_male)\n",
    "\n",
    "# p-value is >5% and hence we accept the null hypothesis: Variances are equal. We can go ahead with the t-test"
   ]
  },
  {
   "cell_type": "code",
   "execution_count": 76,
   "metadata": {},
   "outputs": [
    {
     "data": {
      "text/plain": [
       "Ttest_indResult(statistic=1.990009744180731, pvalue=0.04685965412880698)"
      ]
     },
     "execution_count": 76,
     "metadata": {},
     "output_type": "execute_result"
    }
   ],
   "source": [
    "# We now run the t-test to check if the means of 'Healthy Eating' among females is significantly higher than that of males\n",
    "\n",
    "#H0: The mean rating for 'Healthy Eating' among females is less than or equal to that of males\n",
    "#Ha: The mean rating for 'Healthy Eating' among women is greater than that of males\n",
    "ttest_ind(Healthyeating_female,Healthyeating_male)\n",
    "\n",
    "# The p-value shown is for a two-tailed test. For a one tailed test, the p-value is ~0.046/2=0.023, which is < 5%\n",
    "# Therefore, we reject the null hypothesis\n",
    "# Conclusion: Women have a healthier lifestyle than men"
   ]
  },
  {
   "cell_type": "markdown",
   "metadata": {},
   "source": [
    "## Conclusion: Women have a healthier lifestyle than men"
   ]
  },
  {
   "cell_type": "code",
   "execution_count": 77,
   "metadata": {},
   "outputs": [
    {
     "name": "stdout",
     "output_type": "stream",
     "text": [
      "Mean Healthy Eating rating among residents of villages: 2.983277591973244\n",
      "Mean Healthy Eating rating among residents of cities: 3.052039381153305\n"
     ]
    }
   ],
   "source": [
    "# Question 2d: Are Village People Healthier than City People?\n",
    "\n",
    "Mean_Healthyeating_Village=df[df['Village - town']=='village']['Healthy eating'].mean()\n",
    "Mean_Healthyeating_City=df[df['Village - town']=='city']['Healthy eating'].mean()\n",
    "print(\"Mean Healthy Eating rating among residents of villages:\",Mean_Healthyeating_Village)\n",
    "print(\"Mean Healthy Eating rating among residents of cities:\",Mean_Healthyeating_City)\n",
    "\n",
    "# It's observed that residents of cities rate themselves slightly higher than residents of villages in terms of Healthy eating."
   ]
  },
  {
   "cell_type": "code",
   "execution_count": 78,
   "metadata": {},
   "outputs": [],
   "source": [
    "# Creating the required data subsets\n",
    "Healthyeating_village=df[df['Village - town']=='village']['Healthy eating']\n",
    "Healthyeating_city=df[df['Village - town']=='city']['Healthy eating']"
   ]
  },
  {
   "cell_type": "code",
   "execution_count": 79,
   "metadata": {},
   "outputs": [
    {
     "name": "stdout",
     "output_type": "stream",
     "text": [
      "p-value for residents of village: 2.0663363666070973e-14,\n",
      "p-value for residents of cities: 1.2268010599450731e-23\n"
     ]
    }
   ],
   "source": [
    "# Shapiro test to verify normality of data\n",
    "\n",
    "w_stat_village_HE,p_value_village_HE=shapiro(Healthyeating_village)\n",
    "w_stat_city_HE,p_value_city_HE=shapiro(Healthyeating_city)\n",
    "print(\"p-value for residents of village: {},\\np-value for residents of cities: {}\".format(p_value_village_HE,p_value_city_HE))\n",
    "\n",
    "# Since p-value > 5% for both the distributions, we accept the null hypothesis: Data is normally distributed"
   ]
  },
  {
   "cell_type": "code",
   "execution_count": 80,
   "metadata": {},
   "outputs": [
    {
     "data": {
      "text/plain": [
       "LeveneResult(statistic=0.02208957185660561, pvalue=0.8818787908095025)"
      ]
     },
     "execution_count": 80,
     "metadata": {},
     "output_type": "execute_result"
    }
   ],
   "source": [
    "# Levene's test to verify equal variance among the two groups \n",
    "\n",
    "levene(Healthyeating_village,Healthyeating_city)\n",
    "\n",
    "# p-value is >5% and hence we accept the null hypothesis: Variances are equal. We can go ahead with the t-test"
   ]
  },
  {
   "cell_type": "code",
   "execution_count": 81,
   "metadata": {},
   "outputs": [
    {
     "data": {
      "text/plain": [
       "Ttest_indResult(statistic=-1.066485812628908, pvalue=0.2864594559841501)"
      ]
     },
     "execution_count": 81,
     "metadata": {},
     "output_type": "execute_result"
    }
   ],
   "source": [
    "# We now run the t-test to check if the means of 'Healthy Eating' among residents of village is significantly higher than that of residents of cities\n",
    "\n",
    "#H0: The mean rating for 'Healthy Eating' among residents of villages is less than or equal to that of residents of cities\n",
    "#Ha: The mean rating for 'Healthy Eating' among residents of villages is greater than that of residents of cities\n",
    "\n",
    "ttest_ind(Healthyeating_village,Healthyeating_city)\n",
    "\n",
    "# The t-statistic tells us that city residents are slightly more healthier than village residents, although not significantly\n",
    "# The p-value shown is for a two-tailed test. For a one tailed test, the p-value is ~0.28/2=0.14, which is > 5%\n",
    "# Therefore, we accept the null hypothesis\n",
    "# Conclusion: Village people are not healthier than city people"
   ]
  },
  {
   "cell_type": "markdown",
   "metadata": {},
   "source": [
    "## Conclusion: Village people are not healthier than city people"
   ]
  }
 ],
 "metadata": {
  "kernelspec": {
   "display_name": "Python 3",
   "language": "python",
   "name": "python3"
  },
  "language_info": {
   "codemirror_mode": {
    "name": "ipython",
    "version": 3
   },
   "file_extension": ".py",
   "mimetype": "text/x-python",
   "name": "python",
   "nbconvert_exporter": "python",
   "pygments_lexer": "ipython3",
   "version": "3.7.3"
  }
 },
 "nbformat": 4,
 "nbformat_minor": 2
}
